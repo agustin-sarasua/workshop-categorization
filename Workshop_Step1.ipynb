{
  "nbformat": 4,
  "nbformat_minor": 0,
  "metadata": {
    "colab": {
      "name": "Workshop Step1.ipynb",
      "version": "0.3.2",
      "provenance": [],
      "toc_visible": true
    },
    "kernelspec": {
      "name": "python3",
      "display_name": "Python 3"
    },
    "accelerator": "GPU"
  },
  "cells": [
    {
      "metadata": {
        "id": "oGCD2RZaJ8V8",
        "colab_type": "code",
        "colab": {}
      },
      "cell_type": "code",
      "source": [
        "import requests\n",
        "import json\n",
        "from collections import Counter\n",
        "import random\n",
        "\n",
        "#import matplotlib.pyplot as plt\n",
        "#import seaborn as sns\n",
        "\n",
        "#from sklearn import preprocessing\n",
        "#from sklearn.feature_extraction.text import CountVectorizer, TfidfTransformer\n",
        "#from sklearn.decomposition import PCA\n",
        "#from sklearn.pipeline import Pipeline\n",
        "\n",
        "import pandas as pd # data preprocessing\n",
        "import numpy as np # linear algebra\n",
        "\n",
        "#import tensorflow as tf\n",
        "#from tensorflow.keras import layers\n",
        "from tensorflow.python.keras.preprocessing import sequence\n",
        "from tensorflow.python.keras.preprocessing import text\n",
        "\n",
        "pd.set_option('display.max_columns', None)  # or 1000\n",
        "pd.set_option('display.max_rows', None)  # or 1000\n",
        "pd.set_option('display.max_colwidth', -1)  # or 199"
      ],
      "execution_count": 0,
      "outputs": []
    },
    {
      "metadata": {
        "id": "enMJq6gWJ8WB",
        "colab_type": "text"
      },
      "cell_type": "markdown",
      "source": [
        "# Part 1: Train a first Neural Network\n",
        "El objetivo del siguiente notebook es entrenar una red neuronal simple para predecir dominios del dataset.\n",
        "\n",
        "A continuación se muestra la arquitectura de la red a entrenar.\n",
        "\n",
        "\n",
        "![Google's logo](https://www.google.com/images/logos/google_logo_41.png)"
      ]
    },
    {
      "metadata": {
        "id": "KCccfxRWJ8WC",
        "colab_type": "code",
        "colab": {}
      },
      "cell_type": "code",
      "source": [
        ""
      ],
      "execution_count": 0,
      "outputs": []
    },
    {
      "metadata": {
        "id": "8zW5N-UIJ8WE",
        "colab_type": "text"
      },
      "cell_type": "markdown",
      "source": [
        "## Download the dataset\n",
        "El siguiente código descarga el dataset ubicado en Google Drive y lo descomprime "
      ]
    },
    {
      "metadata": {
        "id": "F9H7Nf4tJ8WF",
        "colab_type": "code",
        "colab": {
          "base_uri": "https://localhost:8080/",
          "height": 85
        },
        "outputId": "79113375-bbe6-4bde-c687-8ab458748571"
      },
      "cell_type": "code",
      "source": [
        "#dataset_url = 'https://drive.google.com/file/d/1XbasZMZzSmMUbji1Sslg4vT5MBiIhyFO/view?usp=sharing'\n",
        "\n",
        "def download_file_from_google_drive(id, destination):\n",
        "    URL = \"https://docs.google.com/uc?export=download\"\n",
        "\n",
        "    session = requests.Session()\n",
        "\n",
        "    response = session.get(URL, params = { 'id' : id }, stream = True)\n",
        "    token = get_confirm_token(response)\n",
        "\n",
        "    if token:\n",
        "        params = { 'id' : id, 'confirm' : token }\n",
        "        response = session.get(URL, params = params, stream = True)\n",
        "\n",
        "    save_response_content(response, destination)    \n",
        "\n",
        "def get_confirm_token(response):\n",
        "    for key, value in response.cookies.items():\n",
        "        if key.startswith('download_warning'):\n",
        "            return value\n",
        "\n",
        "    return None\n",
        "\n",
        "def save_response_content(response, destination):\n",
        "    CHUNK_SIZE = 32768\n",
        "\n",
        "    with open(destination, \"wb\") as f:\n",
        "        for chunk in response.iter_content(CHUNK_SIZE):\n",
        "            if chunk: # filter out keep-alive new chunks\n",
        "                f.write(chunk)\n",
        "\n",
        "\n",
        "#download_file_from_google_drive('1BXQGSYbpdDaQdR_MeYfw1q4OjfmyXdmh', 'dataset.zip')                \n",
        "#!unzip 'dataset.zip'\n",
        "\n",
        "download_file_from_google_drive('1nzvm--XkmhjHgngNdjaemFIViXekaVWx', 'sm_dataset.zip')\n",
        "!unzip 'sm_dataset.zip'"
      ],
      "execution_count": 3,
      "outputs": [
        {
          "output_type": "stream",
          "text": [
            "Archive:  sm_dataset.zip\n",
            "  inflating: dataset.csv             \n",
            "   creating: __MACOSX/\n",
            "  inflating: __MACOSX/._dataset.csv  \n"
          ],
          "name": "stdout"
        }
      ]
    },
    {
      "metadata": {
        "id": "z-u-NVhyJ8WL",
        "colab_type": "text"
      },
      "cell_type": "markdown",
      "source": [
        "## Load the dataset using pandas\n",
        "The dataset is a csv file separated with tabs"
      ]
    },
    {
      "metadata": {
        "id": "A3e2QuYlJ8WN",
        "colab_type": "code",
        "colab": {}
      },
      "cell_type": "code",
      "source": [
        "df = pd.read_csv('dataset.csv', sep='\\t')"
      ],
      "execution_count": 0,
      "outputs": []
    },
    {
      "metadata": {
        "id": "TjVDK9CeJ8Wp",
        "colab_type": "text"
      },
      "cell_type": "markdown",
      "source": [
        "## Explore the data"
      ]
    },
    {
      "metadata": {
        "id": "XLZv5tX6J8Wq",
        "colab_type": "text"
      },
      "cell_type": "markdown",
      "source": [
        "Let's do some checks to see if the data makes sense"
      ]
    },
    {
      "metadata": {
        "id": "UghPsiwmJ8Wr",
        "colab_type": "code",
        "colab": {
          "base_uri": "https://localhost:8080/",
          "height": 204
        },
        "outputId": "44762eba-e371-4f80-e319-d9a0a8360b5d"
      },
      "cell_type": "code",
      "source": [
        "df.head()"
      ],
      "execution_count": 5,
      "outputs": [
        {
          "output_type": "execute_result",
          "data": {
            "text/html": [
              "<div>\n",
              "<style scoped>\n",
              "    .dataframe tbody tr th:only-of-type {\n",
              "        vertical-align: middle;\n",
              "    }\n",
              "\n",
              "    .dataframe tbody tr th {\n",
              "        vertical-align: top;\n",
              "    }\n",
              "\n",
              "    .dataframe thead th {\n",
              "        text-align: right;\n",
              "    }\n",
              "</style>\n",
              "<table border=\"1\" class=\"dataframe\">\n",
              "  <thead>\n",
              "    <tr style=\"text-align: right;\">\n",
              "      <th></th>\n",
              "      <th>domain_id</th>\n",
              "      <th>title</th>\n",
              "    </tr>\n",
              "  </thead>\n",
              "  <tbody>\n",
              "    <tr>\n",
              "      <th>0</th>\n",
              "      <td>SANDALS_AND_FLIP_FLOPS</td>\n",
              "      <td>Sandalias Con Plataforma Mini Viamo Usadas Num 33/34 Niña</td>\n",
              "    </tr>\n",
              "    <tr>\n",
              "      <th>1</th>\n",
              "      <td>SPARK_PLUG_WIRESETS</td>\n",
              "      <td>Cable Para Bujia Prestolite (1127) Peugeot 405/1.8/1.9/2.0 1</td>\n",
              "    </tr>\n",
              "    <tr>\n",
              "      <th>2</th>\n",
              "      <td>MOTORCYCLE_HANDLEBAR_GRIPS</td>\n",
              "      <td>Protectores Mda Monster Zanella Zb D 110 4t 2005....</td>\n",
              "    </tr>\n",
              "    <tr>\n",
              "      <th>3</th>\n",
              "      <td>MOTORCYCLE_TIRES</td>\n",
              "      <td>Cubierta Moto 250 17 Hd01-1 Okinoi Okinoi - 110</td>\n",
              "    </tr>\n",
              "    <tr>\n",
              "      <th>4</th>\n",
              "      <td>AUTOMOTIVE_FILTER_KITS</td>\n",
              "      <td>Kit De Filtros Wega Toyota Hilux 2011</td>\n",
              "    </tr>\n",
              "  </tbody>\n",
              "</table>\n",
              "</div>"
            ],
            "text/plain": [
              "                    domain_id  \\\n",
              "0  SANDALS_AND_FLIP_FLOPS       \n",
              "1  SPARK_PLUG_WIRESETS          \n",
              "2  MOTORCYCLE_HANDLEBAR_GRIPS   \n",
              "3  MOTORCYCLE_TIRES             \n",
              "4  AUTOMOTIVE_FILTER_KITS       \n",
              "\n",
              "                                                          title  \n",
              "0  Sandalias Con Plataforma Mini Viamo Usadas Num 33/34 Niña     \n",
              "1  Cable Para Bujia Prestolite (1127) Peugeot 405/1.8/1.9/2.0 1  \n",
              "2  Protectores Mda Monster Zanella Zb D 110 4t 2005....          \n",
              "3  Cubierta Moto 250 17 Hd01-1 Okinoi Okinoi - 110               \n",
              "4  Kit De Filtros Wega Toyota Hilux 2011                         "
            ]
          },
          "metadata": {
            "tags": []
          },
          "execution_count": 5
        }
      ]
    },
    {
      "metadata": {
        "id": "A9g0DmBxJ8Ww",
        "colab_type": "text"
      },
      "cell_type": "markdown",
      "source": [
        "First, find how many classes we have in the dataset. This classes will be the output of the Neural Network"
      ]
    },
    {
      "metadata": {
        "id": "FGS4s5JOJ8Wx",
        "colab_type": "code",
        "colab": {
          "base_uri": "https://localhost:8080/",
          "height": 34
        },
        "outputId": "67591326-d9aa-4f9d-c3f0-cb09692c1c17"
      },
      "cell_type": "code",
      "source": [
        "print(\"Número de classes:\", len(df.domain_id.unique()))"
      ],
      "execution_count": 6,
      "outputs": [
        {
          "output_type": "stream",
          "text": [
            "Número de classes: 100\n"
          ],
          "name": "stdout"
        }
      ]
    },
    {
      "metadata": {
        "id": "pEH-LeQVJ8W0",
        "colab_type": "text"
      },
      "cell_type": "markdown",
      "source": [
        "¿How many items do we have in the dataset?"
      ]
    },
    {
      "metadata": {
        "id": "qYqcMdgIJ8W1",
        "colab_type": "code",
        "colab": {
          "base_uri": "https://localhost:8080/",
          "height": 34
        },
        "outputId": "e87c6117-1745-42af-c2a9-1e80431003d0"
      },
      "cell_type": "code",
      "source": [
        "print(\"Número de ejemplos:\", len(df))"
      ],
      "execution_count": 7,
      "outputs": [
        {
          "output_type": "stream",
          "text": [
            "Número de ejemplos: 464092\n"
          ],
          "name": "stdout"
        }
      ]
    },
    {
      "metadata": {
        "id": "6VLur2huJ8W4",
        "colab_type": "text"
      },
      "cell_type": "markdown",
      "source": [
        "Count how many items we have per class and:\n",
        " 1. Make a line plot\n",
        " 2. Plot a histogram distribution to see how balanced are the classes"
      ]
    },
    {
      "metadata": {
        "id": "wbNvdhWkJ8W6",
        "colab_type": "code",
        "colab": {
          "base_uri": "https://localhost:8080/",
          "height": 364
        },
        "outputId": "50d5108b-ad75-48a8-d714-d97e59a747d7"
      },
      "cell_type": "code",
      "source": [
        "plt = (df.groupby('domain_id')\n",
        "             .count()\n",
        "             .sort_values('title', ascending=False)\n",
        "             .reset_index()[['domain_id','title']]\n",
        "             .rename(columns={\"title\":\"counts\"}))['counts'].plot.line()\n",
        "plt.set_ylim(0,5500)"
      ],
      "execution_count": 8,
      "outputs": [
        {
          "output_type": "execute_result",
          "data": {
            "text/plain": [
              "(0, 5500)"
            ]
          },
          "metadata": {
            "tags": []
          },
          "execution_count": 8
        },
        {
          "output_type": "display_data",
          "data": {
            "image/png": "[encoded data removed]",
            "text/plain": [
              "<Figure size 576x396 with 1 Axes>"
            ]
          },
          "metadata": {
            "tags": []
          }
        }
      ]
    },
    {
      "metadata": {
        "id": "gFLW2OHvJ8XA",
        "colab_type": "code",
        "colab": {
          "base_uri": "https://localhost:8080/",
          "height": 364
        },
        "outputId": "7be568f5-0f4f-46fa-9ebf-de5ddb5d346e"
      },
      "cell_type": "code",
      "source": [
        "(df.groupby('domain_id')\n",
        "             .count()\n",
        "             .reset_index()[['domain_id','title']]\n",
        "             .rename(columns={\"title\":\"counts\"}))['counts'].plot.hist()"
      ],
      "execution_count": 9,
      "outputs": [
        {
          "output_type": "execute_result",
          "data": {
            "text/plain": [
              "<matplotlib.axes._subplots.AxesSubplot at 0x7f60ddf75438>"
            ]
          },
          "metadata": {
            "tags": []
          },
          "execution_count": 9
        },
        {
          "output_type": "display_data",
          "data": {
            "image/png": "[encoded data removed]",
            "text/plain": [
              "<Figure size 576x396 with 1 Axes>"
            ]
          },
          "metadata": {
            "tags": []
          }
        }
      ]
    },
    {
      "metadata": {
        "id": "lyH1T3bgJ8XS",
        "colab_type": "code",
        "colab": {}
      },
      "cell_type": "code",
      "source": [
        ""
      ],
      "execution_count": 0,
      "outputs": []
    },
    {
      "metadata": {
        "id": "5I3aEBqsJ8XV",
        "colab_type": "text"
      },
      "cell_type": "markdown",
      "source": [
        "## Prepare the data"
      ]
    },
    {
      "metadata": {
        "id": "X2pN4U9AbgL6",
        "colab_type": "code",
        "colab": {}
      },
      "cell_type": "code",
      "source": [
        "max_items = 10000"
      ],
      "execution_count": 0,
      "outputs": []
    },
    {
      "metadata": {
        "id": "gEWhtqboJ8XW",
        "colab_type": "text"
      },
      "cell_type": "markdown",
      "source": [
        "### Tokenization and Vectorization"
      ]
    },
    {
      "metadata": {
        "id": "TMsGCFCKJ8XY",
        "colab_type": "text"
      },
      "cell_type": "markdown",
      "source": [
        "Create a vocabulary of words.\n",
        "\n",
        "That is, given the text of the dataset, return a dict of word -> index \n",
        "\n",
        "[\"Kit De Filtros Wega Toyota Hilux 2011\", \"Protectores Mda Monster\", ...]\n",
        "\n",
        "{\"kit\":0, \"de\":1, ... ,\"monster\":121, ...}\n",
        "\n",
        "View https://keras.io/preprocessing/text/"
      ]
    },
    {
      "metadata": {
        "id": "hUEU25koJ8XZ",
        "colab_type": "code",
        "colab": {}
      },
      "cell_type": "code",
      "source": [
        "def vectorize_text(corpus):\n",
        "  TOP_K = 20000\n",
        "\n",
        "  MAX_SEQUENCE_LENGTH = 12\n",
        "\n",
        "  tokenizer = text.Tokenizer(num_words=TOP_K, filters='!\"#$%&()*+,-./:;<=>?@[\\\\]^_`{|}~\\t\\n', lower=True, split=' ')\n",
        "  tokenizer.fit_on_texts(corpus)\n",
        "\n",
        "  # Vectorize training and validation texts.\n",
        "  text_sequences = tokenizer.texts_to_sequences(corpus)\n",
        "\n",
        "  # Get max sequence length.\n",
        "  max_length = len(max(text_sequences, key=len))\n",
        "  if max_length > MAX_SEQUENCE_LENGTH:\n",
        "      max_length = MAX_SEQUENCE_LENGTH\n",
        "\n",
        "  # Fix sequence length to max value. Sequences shorter than the length are\n",
        "  # padded in the beginning and sequences longer are truncated\n",
        "  # at the beginning.\n",
        "  text_sequences = sequence.pad_sequences(text_sequences, maxlen=max_length)\n",
        "  return text_sequences, tokenizer\n",
        "  "
      ],
      "execution_count": 0,
      "outputs": []
    },
    {
      "metadata": {
        "id": "VA5V9eyZWNen",
        "colab_type": "text"
      },
      "cell_type": "markdown",
      "source": [
        ""
      ]
    },
    {
      "metadata": {
        "id": "pHCbkzwEJ8Xc",
        "colab_type": "code",
        "colab": {
          "base_uri": "https://localhost:8080/",
          "height": 34
        },
        "outputId": "53876c87-2bfa-4d16-ca05-5e7284a1e3fb"
      },
      "cell_type": "code",
      "source": [
        "import time\n",
        "tic = time.time()\n",
        "\n",
        "text_sequences, tokenizer = vectorize_text(df['title'].values[:max_items])\n",
        "\n",
        "toc = time.time()\n",
        "    \n",
        "print(\"Time to vectorize: \" + str(1000*(toc-tic)) + \" ms\")\n"
      ],
      "execution_count": 55,
      "outputs": [
        {
          "output_type": "stream",
          "text": [
            "Time to vectorize: 454.54955101013184 ms\n"
          ],
          "name": "stdout"
        }
      ]
    },
    {
      "metadata": {
        "id": "VX9OHUCCXhb-",
        "colab_type": "text"
      },
      "cell_type": "markdown",
      "source": [
        "**word_counts**: ordereddict(\"word\": \"count\")\n",
        "\n",
        "**word_docs**: dic(\"word\": \"count docs it appears\")\n",
        "\n",
        "**word_index**: Vocabulary dict(\"word\":index)\n",
        "\n",
        "**document_count**:int #doc used to fit the Tokenizer."
      ]
    },
    {
      "metadata": {
        "id": "y_a6ujeTYxCd",
        "colab_type": "code",
        "colab": {}
      },
      "cell_type": "code",
      "source": [
        "#print(tokenizer.word_counts)\n",
        "#print(tokenizer.word_counts)\n",
        "#print(tokenizer.word_index)\n",
        "#print(tokenizer.document_count)\n",
        "#print(tokenizer.word_docs)"
      ],
      "execution_count": 0,
      "outputs": []
    },
    {
      "metadata": {
        "id": "_0llRNneb8eB",
        "colab_type": "text"
      },
      "cell_type": "markdown",
      "source": [
        "Now, it is time to vectorizer each individual example using the tokenizer fitted on the entire corpus\n",
        "\n",
        "**binary**: Default, 1/0\n",
        "\n",
        "**count**: BoW\n",
        "\n",
        "**tfidf**: Term Frequency-Inverse Document Frequency\n",
        "\n",
        "**freq**: Term Frequency as ratio within the document\n"
      ]
    },
    {
      "metadata": {
        "id": "or2ZwgPALX7E",
        "colab_type": "code",
        "colab": {}
      },
      "cell_type": "code",
      "source": [
        "\n",
        "encoded_docs = tokenizer.sequences_to_matrix(text_sequences[:max_items].tolist(), mode=\"count\")\n"
      ],
      "execution_count": 0,
      "outputs": []
    },
    {
      "metadata": {
        "id": "C5hbhvf7Nq8z",
        "colab_type": "code",
        "colab": {
          "base_uri": "https://localhost:8080/",
          "height": 51
        },
        "outputId": "631cabb4-733e-4a11-ed27-a2c76bb57118"
      },
      "cell_type": "code",
      "source": [
        "print(text_sequences.shape)\n",
        "print(encoded_docs.shape)\n"
      ],
      "execution_count": 77,
      "outputs": [
        {
          "output_type": "stream",
          "text": [
            "(10000, 12)\n",
            "(10000, 20000)\n"
          ],
          "name": "stdout"
        }
      ]
    },
    {
      "metadata": {
        "id": "-G5EMEiN2pyf",
        "colab_type": "code",
        "colab": {
          "base_uri": "https://localhost:8080/",
          "height": 170
        },
        "outputId": "0a2b2cb8-9f4c-4f84-dba7-c89905bf1386"
      },
      "cell_type": "code",
      "source": [
        "example_idx = 1000\n",
        "print(df['title'].values[example_idx])\n",
        "#print(text_sequences[1].tolist())\n",
        "idx_tkn ={idx:tkn for tkn, idx in tokenizer.word_index.items()}\n",
        "for tkn in text_sequences[example_idx].tolist():\n",
        "  if tkn > 0:\n",
        "    print(idx_tkn[tkn] ,encoded_docs[example_idx][tkn])\n"
      ],
      "execution_count": 59,
      "outputs": [
        {
          "output_type": "stream",
          "text": [
            "Maceta  Rotomoldeada  Con  Plantas De Interior Y Exterior\n",
            "maceta 1.0\n",
            "rotomoldeada 1.0\n",
            "con 1.0\n",
            "plantas 1.0\n",
            "de 1.0\n",
            "interior 1.0\n",
            "y 1.0\n",
            "exterior 1.0\n"
          ],
          "name": "stdout"
        }
      ]
    },
    {
      "metadata": {
        "id": "6Jh2lEpRIy66",
        "colab_type": "text"
      },
      "cell_type": "markdown",
      "source": [
        "### Vectorize the labels\n",
        "\n",
        "Add a new column to the pandas dataframe with a integer representing the class label\n"
      ]
    },
    {
      "metadata": {
        "id": "Fy9vjnH6IyoZ",
        "colab_type": "code",
        "colab": {}
      },
      "cell_type": "code",
      "source": [
        "df['label'] = df['domain_id'].factorize()[0]\n"
      ],
      "execution_count": 0,
      "outputs": []
    },
    {
      "metadata": {
        "id": "wX9jCS0rJIcs",
        "colab_type": "text"
      },
      "cell_type": "markdown",
      "source": [
        "Check that all the training examples belonging to the same domain have the same vectorizer label"
      ]
    },
    {
      "metadata": {
        "id": "3PUsEtRaJF-W",
        "colab_type": "code",
        "colab": {
          "base_uri": "https://localhost:8080/",
          "height": 204
        },
        "outputId": "787e84b6-97a9-430d-85f0-96f289e22dec"
      },
      "cell_type": "code",
      "source": [
        "df[df['label']==2].head()"
      ],
      "execution_count": 61,
      "outputs": [
        {
          "output_type": "execute_result",
          "data": {
            "text/html": [
              "<div>\n",
              "<style scoped>\n",
              "    .dataframe tbody tr th:only-of-type {\n",
              "        vertical-align: middle;\n",
              "    }\n",
              "\n",
              "    .dataframe tbody tr th {\n",
              "        vertical-align: top;\n",
              "    }\n",
              "\n",
              "    .dataframe thead th {\n",
              "        text-align: right;\n",
              "    }\n",
              "</style>\n",
              "<table border=\"1\" class=\"dataframe\">\n",
              "  <thead>\n",
              "    <tr style=\"text-align: right;\">\n",
              "      <th></th>\n",
              "      <th>domain_id</th>\n",
              "      <th>title</th>\n",
              "      <th>label</th>\n",
              "    </tr>\n",
              "  </thead>\n",
              "  <tbody>\n",
              "    <tr>\n",
              "      <th>2</th>\n",
              "      <td>MOTORCYCLE_HANDLEBAR_GRIPS</td>\n",
              "      <td>Protectores Mda Monster Zanella Zb D 110 4t 2005....</td>\n",
              "      <td>2</td>\n",
              "    </tr>\n",
              "    <tr>\n",
              "      <th>71</th>\n",
              "      <td>MOTORCYCLE_HANDLEBAR_GRIPS</td>\n",
              "      <td>Puños Mda Rubber Rojo Gilera Smash 110 Rd</td>\n",
              "      <td>2</td>\n",
              "    </tr>\n",
              "    <tr>\n",
              "      <th>152</th>\n",
              "      <td>MOTORCYCLE_HANDLEBAR_GRIPS</td>\n",
              "      <td>Puños Mda Street x Azul Kymco Activ 110 -</td>\n",
              "      <td>2</td>\n",
              "    </tr>\n",
              "    <tr>\n",
              "      <th>162</th>\n",
              "      <td>MOTORCYCLE_HANDLEBAR_GRIPS</td>\n",
              "      <td>Puños Mda Street x Negro Gilera Fu 110 -</td>\n",
              "      <td>2</td>\n",
              "    </tr>\n",
              "    <tr>\n",
              "      <th>258</th>\n",
              "      <td>MOTORCYCLE_HANDLEBAR_GRIPS</td>\n",
              "      <td>Puños Mda Ciclo  Negro Pvc Gilera C - 110 2004 -</td>\n",
              "      <td>2</td>\n",
              "    </tr>\n",
              "  </tbody>\n",
              "</table>\n",
              "</div>"
            ],
            "text/plain": [
              "                      domain_id  \\\n",
              "2    MOTORCYCLE_HANDLEBAR_GRIPS   \n",
              "71   MOTORCYCLE_HANDLEBAR_GRIPS   \n",
              "152  MOTORCYCLE_HANDLEBAR_GRIPS   \n",
              "162  MOTORCYCLE_HANDLEBAR_GRIPS   \n",
              "258  MOTORCYCLE_HANDLEBAR_GRIPS   \n",
              "\n",
              "                                                    title  label  \n",
              "2    Protectores Mda Monster Zanella Zb D 110 4t 2005....  2      \n",
              "71   Puños Mda Rubber Rojo Gilera Smash 110 Rd             2      \n",
              "152  Puños Mda Street x Azul Kymco Activ 110 -             2      \n",
              "162  Puños Mda Street x Negro Gilera Fu 110 -              2      \n",
              "258  Puños Mda Ciclo  Negro Pvc Gilera C - 110 2004 -      2      "
            ]
          },
          "metadata": {
            "tags": []
          },
          "execution_count": 61
        }
      ]
    },
    {
      "metadata": {
        "id": "gA0R1Zu7H30D",
        "colab_type": "text"
      },
      "cell_type": "markdown",
      "source": [
        "### Split the dataset in Train and Dev Sets\n",
        "\n",
        "Split the dataset in two sets\n",
        "\n",
        "\n",
        "1.   Train Set: We will first use 80% of the dataset to train the model.\n",
        "2.   Dev Set: The other 20% will be used for cross validation and for tuning hyperparamenters \n",
        "\n"
      ]
    },
    {
      "metadata": {
        "id": "Kp8B8VVBfh_G",
        "colab_type": "code",
        "colab": {}
      },
      "cell_type": "code",
      "source": [
        ""
      ],
      "execution_count": 0,
      "outputs": []
    },
    {
      "metadata": {
        "id": "GkuBE5TrfJL6",
        "colab_type": "code",
        "colab": {}
      },
      "cell_type": "code",
      "source": [
        ""
      ],
      "execution_count": 0,
      "outputs": []
    },
    {
      "metadata": {
        "id": "HvaXQjxYw7QE",
        "colab_type": "code",
        "colab": {}
      },
      "cell_type": "code",
      "source": [
        ""
      ],
      "execution_count": 0,
      "outputs": []
    },
    {
      "metadata": {
        "id": "ozOxCxGaJ8Xg",
        "colab_type": "code",
        "colab": {}
      },
      "cell_type": "code",
      "source": [
        ""
      ],
      "execution_count": 0,
      "outputs": []
    },
    {
      "metadata": {
        "id": "cWqscVe0J8Xi",
        "colab_type": "text"
      },
      "cell_type": "markdown",
      "source": [
        "## Build the model\n",
        "\n",
        "We will first create a model using Keras Sequential API\n",
        "\n",
        "Learn More: https://keras.io/getting-started/sequential-model-guide/"
      ]
    },
    {
      "metadata": {
        "id": "AKcmZb3cJ8Xk",
        "colab_type": "code",
        "colab": {}
      },
      "cell_type": "code",
      "source": [
        "from tensorflow.python.keras.models import Sequential\n",
        "from tensorflow.python.keras.layers import Dense, Activation\n",
        "\n",
        "\n",
        "model = Sequential([\n",
        "    Dense(1024, input_shape=(encoded_docs.shape[1],)),\n",
        "    Activation('relu'),\n",
        "    Dense(len(df[:max_items].domain_id.unique())),\n",
        "    Activation('softmax'),\n",
        "])\n",
        "\n",
        "# For a multi-class classification problem\n",
        "model.compile(optimizer='rmsprop',\n",
        "              loss='categorical_crossentropy',\n",
        "              metrics=['accuracy'])"
      ],
      "execution_count": 0,
      "outputs": []
    },
    {
      "metadata": {
        "id": "VtI1TJ61gUqQ",
        "colab_type": "text"
      },
      "cell_type": "markdown",
      "source": [
        "### Visualizing the Neural Network"
      ]
    },
    {
      "metadata": {
        "id": "lv8ShNIygWVW",
        "colab_type": "code",
        "colab": {
          "base_uri": "https://localhost:8080/",
          "height": 153
        },
        "outputId": "d7584c36-5435-40a2-af53-757915683d2a"
      },
      "cell_type": "code",
      "source": [
        "# Install dependencies\n",
        "!apt install graphviz\n",
        "!pip install pydot pydot-ng"
      ],
      "execution_count": 49,
      "outputs": [
        {
          "output_type": "stream",
          "text": [
            "Reading package lists... Done\n",
            "Building dependency tree       \n",
            "Reading state information... Done\n",
            "graphviz is already the newest version (2.40.1-2).\n",
            "0 upgraded, 0 newly installed, 0 to remove and 8 not upgraded.\n",
            "Requirement already satisfied: pydot in /usr/local/lib/python3.6/dist-packages (1.3.0)\n",
            "Requirement already satisfied: pydot-ng in /usr/local/lib/python3.6/dist-packages (2.0.0)\n",
            "Requirement already satisfied: pyparsing>=2.1.4 in /usr/local/lib/python3.6/dist-packages (from pydot) (2.3.1)\n"
          ],
          "name": "stdout"
        }
      ]
    },
    {
      "metadata": {
        "id": "4Hrgv5R2gewH",
        "colab_type": "code",
        "colab": {
          "base_uri": "https://localhost:8080/",
          "height": 540
        },
        "outputId": "8ba06c18-4310-4b4b-923d-ebd6f6f13a5e"
      },
      "cell_type": "code",
      "source": [
        "from keras.utils import plot_model\n",
        "from IPython.display import Image\n",
        "\n",
        "# Model summary\n",
        "print(model.summary())\n",
        "\n",
        "# Plot model graph\n",
        "plot_model(model, show_shapes=True, show_layer_names=True, to_file='model.png')\n",
        "Image(retina=True, filename='model.png')"
      ],
      "execution_count": 63,
      "outputs": [
        {
          "output_type": "stream",
          "text": [
            "_________________________________________________________________\n",
            "Layer (type)                 Output Shape              Param #   \n",
            "=================================================================\n",
            "dense_10 (Dense)             (None, 1024)              20481024  \n",
            "_________________________________________________________________\n",
            "activation_10 (Activation)   (None, 1024)              0         \n",
            "_________________________________________________________________\n",
            "dense_11 (Dense)             (None, 100)               102500    \n",
            "_________________________________________________________________\n",
            "activation_11 (Activation)   (None, 100)               0         \n",
            "=================================================================\n",
            "Total params: 20,583,524\n",
            "Trainable params: 20,583,524\n",
            "Non-trainable params: 0\n",
            "_________________________________________________________________\n",
            "None\n"
          ],
          "name": "stdout"
        },
        {
          "output_type": "execute_result",
          "data": {
            "image/png": "[encoded data removed]",
            "text/plain": [
              "<IPython.core.display.Image object>"
            ]
          },
          "metadata": {
            "tags": [],
            "image/png": {
              "width": 214,
              "height": 251
            }
          },
          "execution_count": 63
        }
      ]
    },
    {
      "metadata": {
        "id": "ar_Po308J8Xn",
        "colab_type": "text"
      },
      "cell_type": "markdown",
      "source": [
        "## Train the model"
      ]
    },
    {
      "metadata": {
        "id": "c4RAKqDTJ8Xo",
        "colab_type": "text"
      },
      "cell_type": "markdown",
      "source": [
        ""
      ]
    },
    {
      "metadata": {
        "id": "SQdylu9sJ8Xo",
        "colab_type": "code",
        "colab": {}
      },
      "cell_type": "code",
      "source": [
        "from tensorflow.python.keras.utils import to_categorical\n",
        "\n",
        "# Convert labels to categorical one-hot encoding\n",
        "one_hot_labels = to_categorical(df['label'].values[:max_items])"
      ],
      "execution_count": 0,
      "outputs": []
    },
    {
      "metadata": {
        "id": "n9r5tfoBP8h0",
        "colab_type": "code",
        "colab": {
          "base_uri": "https://localhost:8080/",
          "height": 51
        },
        "outputId": "74740cd7-6c19-4504-e7c1-d83686c38b28"
      },
      "cell_type": "code",
      "source": [
        "print(df['label'].values[100])\n",
        "one_hot_labels[100][df['label'].values[100]]"
      ],
      "execution_count": 65,
      "outputs": [
        {
          "output_type": "stream",
          "text": [
            "67\n"
          ],
          "name": "stdout"
        },
        {
          "output_type": "execute_result",
          "data": {
            "text/plain": [
              "1.0"
            ]
          },
          "metadata": {
            "tags": []
          },
          "execution_count": 65
        }
      ]
    },
    {
      "metadata": {
        "id": "3rTs0esBQYFY",
        "colab_type": "code",
        "colab": {
          "base_uri": "https://localhost:8080/",
          "height": 394
        },
        "outputId": "c66f8fea-f3a5-4808-9719-284078be9e68"
      },
      "cell_type": "code",
      "source": [
        "# Train the model, iterating on the data in batches of 32 samples\n",
        "train_length = int(encoded_docs.shape[0] * 0.8)\n",
        "val_length = encoded_docs.shape[0] - train_length\n",
        "\n",
        "x_train = encoded_docs[:train_length]\n",
        "y_train = one_hot_labels[:train_length]\n",
        "\n",
        "x_val = encoded_docs[train_length:]\n",
        "y_val = one_hot_labels[train_length:]\n",
        "\n",
        "# Train and validate model.\n",
        "history = model.fit(\n",
        "    x_train,\n",
        "    y_train,\n",
        "    epochs=10,\n",
        "    validation_data=(x_val, y_val),\n",
        "    verbose=1,  # Logs once per epoch.\n",
        "    batch_size=256)\n"
      ],
      "execution_count": 66,
      "outputs": [
        {
          "output_type": "stream",
          "text": [
            "Train on 8000 samples, validate on 2000 samples\n",
            "Epoch 1/10\n",
            "8000/8000 [==============================] - 2s 312us/sample - loss: 3.5392 - acc: 0.6021 - val_loss: 2.3637 - val_acc: 0.7950\n",
            "Epoch 2/10\n",
            "8000/8000 [==============================] - 2s 279us/sample - loss: 1.3475 - acc: 0.9236 - val_loss: 1.1419 - val_acc: 0.8660\n",
            "Epoch 3/10\n",
            "8000/8000 [==============================] - 2s 277us/sample - loss: 0.4879 - acc: 0.9672 - val_loss: 0.7361 - val_acc: 0.8765\n",
            "Epoch 4/10\n",
            "8000/8000 [==============================] - 2s 278us/sample - loss: 0.2113 - acc: 0.9820 - val_loss: 0.5646 - val_acc: 0.8890\n",
            "Epoch 5/10\n",
            "8000/8000 [==============================] - 2s 278us/sample - loss: 0.1027 - acc: 0.9894 - val_loss: 0.4994 - val_acc: 0.8995\n",
            "Epoch 6/10\n",
            "8000/8000 [==============================] - 2s 278us/sample - loss: 0.0546 - acc: 0.9937 - val_loss: 0.4527 - val_acc: 0.9015\n",
            "Epoch 7/10\n",
            "8000/8000 [==============================] - 2s 276us/sample - loss: 0.0311 - acc: 0.9966 - val_loss: 0.4255 - val_acc: 0.9040\n",
            "Epoch 8/10\n",
            "8000/8000 [==============================] - 2s 278us/sample - loss: 0.0185 - acc: 0.9981 - val_loss: 0.4191 - val_acc: 0.9030\n",
            "Epoch 9/10\n",
            "8000/8000 [==============================] - 2s 275us/sample - loss: 0.0121 - acc: 0.9984 - val_loss: 0.4132 - val_acc: 0.9075\n",
            "Epoch 10/10\n",
            "8000/8000 [==============================] - 2s 277us/sample - loss: 0.0085 - acc: 0.9989 - val_loss: 0.4413 - val_acc: 0.8960\n"
          ],
          "name": "stdout"
        }
      ]
    },
    {
      "metadata": {
        "id": "-rF-tgFyJ8Xq",
        "colab_type": "text"
      },
      "cell_type": "markdown",
      "source": [
        ""
      ]
    },
    {
      "metadata": {
        "id": "tcN3mtonJ8Xr",
        "colab_type": "code",
        "colab": {}
      },
      "cell_type": "code",
      "source": [
        ""
      ],
      "execution_count": 0,
      "outputs": []
    },
    {
      "metadata": {
        "id": "eSspOvzPa2MM",
        "colab_type": "code",
        "colab": {}
      },
      "cell_type": "code",
      "source": [
        ""
      ],
      "execution_count": 0,
      "outputs": []
    },
    {
      "metadata": {
        "id": "i6LhfBz2dbzk",
        "colab_type": "text"
      },
      "cell_type": "markdown",
      "source": [
        "### Visualizing learning curve"
      ]
    },
    {
      "metadata": {
        "id": "zfbZ5i2OcbXZ",
        "colab_type": "code",
        "colab": {}
      },
      "cell_type": "code",
      "source": [
        "import matplotlib.pyplot as plt\n",
        "\n",
        "def visualize_training_history(history):\n",
        "  # Plot training & validation accuracy values\n",
        "  plt.plot(history.history['acc'])\n",
        "  plt.plot(history.history['val_acc'])\n",
        "  plt.title('Model accuracy')\n",
        "  plt.ylabel('Accuracy')\n",
        "  plt.xlabel('Epoch')\n",
        "  plt.legend(['Train', 'Test'], loc='upper left')\n",
        "  plt.show()\n",
        "\n",
        "  # Plot training & validation loss values\n",
        "  plt.plot(history.history['loss'])\n",
        "  plt.plot(history.history['val_loss'])\n",
        "  plt.title('Model loss')\n",
        "  plt.ylabel('Loss')\n",
        "  plt.xlabel('Epoch')\n",
        "  plt.legend(['Train', 'Test'], loc='upper left')\n",
        "  plt.show()"
      ],
      "execution_count": 0,
      "outputs": []
    },
    {
      "metadata": {
        "id": "OS-w2-Ssdf2U",
        "colab_type": "code",
        "colab": {
          "base_uri": "https://localhost:8080/",
          "height": 735
        },
        "outputId": "831c0017-849c-4ac8-afa6-df7fd2dc7d43"
      },
      "cell_type": "code",
      "source": [
        "visualize_training_history(history)"
      ],
      "execution_count": 68,
      "outputs": [
        {
          "output_type": "display_data",
          "data": {
            "image/png": "[encoded data removed]",
            "text/plain": [
              "<Figure size 576x396 with 1 Axes>"
            ]
          },
          "metadata": {
            "tags": []
          }
        },
        {
          "output_type": "display_data",
          "data": {
            "image/png": "[encoded data removed]",
            "text/plain": [
              "<Figure size 576x396 with 1 Axes>"
            ]
          },
          "metadata": {
            "tags": []
          }
        }
      ]
    },
    {
      "metadata": {
        "id": "SoGmfw3UmV6I",
        "colab_type": "text"
      },
      "cell_type": "markdown",
      "source": [
        "### Visualize the Confussion Matrix"
      ]
    },
    {
      "metadata": {
        "id": "adoJ6aYQmcu9",
        "colab_type": "code",
        "colab": {}
      },
      "cell_type": "code",
      "source": [
        ""
      ],
      "execution_count": 0,
      "outputs": []
    },
    {
      "metadata": {
        "id": "XEfMmxSwmqpI",
        "colab_type": "text"
      },
      "cell_type": "markdown",
      "source": [
        "## Test the model on some examples"
      ]
    },
    {
      "metadata": {
        "id": "fbiVGzn3fJD2",
        "colab_type": "text"
      },
      "cell_type": "markdown",
      "source": [
        "# Part 2: Recurrent Neural Network"
      ]
    },
    {
      "metadata": {
        "id": "YCN3NkTIpJ1h",
        "colab_type": "code",
        "colab": {
          "base_uri": "https://localhost:8080/",
          "height": 51
        },
        "outputId": "cb0336b0-9bfd-4287-c1b9-a59d98e43e76"
      },
      "cell_type": "code",
      "source": [
        "x_train = text_sequences[:train_length]\n",
        "y_train = one_hot_labels[:train_length]\n",
        "\n",
        "x_val = text_sequences[train_length:]\n",
        "y_val = one_hot_labels[train_length:]\n",
        "\n",
        "print(text_sequences.shape)\n",
        "print(encoded_docs.shape)"
      ],
      "execution_count": 84,
      "outputs": [
        {
          "output_type": "stream",
          "text": [
            "(10000, 12)\n",
            "(10000, 20000)\n"
          ],
          "name": "stdout"
        }
      ]
    },
    {
      "metadata": {
        "id": "WIPA5VzNtkWc",
        "colab_type": "text"
      },
      "cell_type": "markdown",
      "source": [
        "## RNN same approach"
      ]
    },
    {
      "metadata": {
        "id": "BrbePIVAtsVX",
        "colab_type": "code",
        "colab": {}
      },
      "cell_type": "code",
      "source": [
        "from tensorflow.python.keras.models import Sequential\n",
        "from tensorflow.python.keras.layers import Dense, Activation, Dropout, LSTM, Embedding, Masking\n",
        "\n",
        "num_features = encoded_docs.shape[1]\n",
        "title_max_length = text_sequences.shape[1]\n",
        "\n",
        "model = Sequential([\n",
        "    LSTM(units=512, input_shape=title_max_length),\n",
        "    Dropout(0.5),\n",
        "    Dense(len(df[:max_items].domain_id.unique()), activation='softmax')\n",
        "])\n",
        "\n",
        "# For a multi-class classification problem\n",
        "model.compile(optimizer='adam',\n",
        "              loss='categorical_crossentropy',\n",
        "              metrics=['accuracy'])\n",
        "\n",
        "# Train and validate model.\n",
        "history = model.fit(\n",
        "    x_train,\n",
        "    y_train,\n",
        "    epochs=20,\n",
        "    validation_data=(x_val, y_val),\n",
        "    verbose=1,  # Logs once per epoch.\n",
        "    batch_size=256)"
      ],
      "execution_count": 0,
      "outputs": []
    },
    {
      "metadata": {
        "id": "x48Onoxitf6p",
        "colab_type": "text"
      },
      "cell_type": "markdown",
      "source": [
        "## RNN using embedding Layer"
      ]
    },
    {
      "metadata": {
        "id": "ikMCA_CDfL1P",
        "colab_type": "code",
        "colab": {
          "base_uri": "https://localhost:8080/",
          "height": 734
        },
        "outputId": "15ef8426-bf69-420e-f366-0f4b64e57eff"
      },
      "cell_type": "code",
      "source": [
        "from tensorflow.python.keras.models import Sequential\n",
        "from tensorflow.python.keras.layers import Dense, Activation, Dropout, LSTM, Embedding, Masking\n",
        "\n",
        "num_features = encoded_docs.shape[1]\n",
        "title_max_length = text_sequences.shape[1]\n",
        "\n",
        "model = Sequential([\n",
        "    Embedding(input_dim=num_features,\n",
        "              output_dim=200,\n",
        "              input_length=title_max_length),\n",
        "    LSTM(units=512),\n",
        "    Dropout(0.5),\n",
        "    Dense(len(df[:max_items].domain_id.unique()), activation='softmax')\n",
        "])\n",
        "\n",
        "# For a multi-class classification problem\n",
        "model.compile(optimizer='adam',\n",
        "              loss='categorical_crossentropy',\n",
        "              metrics=['accuracy'])\n",
        "\n",
        "# Train and validate model.\n",
        "history = model.fit(\n",
        "    x_train,\n",
        "    y_train,\n",
        "    epochs=20,\n",
        "    validation_data=(x_val, y_val),\n",
        "    verbose=1,  # Logs once per epoch.\n",
        "    batch_size=256)"
      ],
      "execution_count": 89,
      "outputs": [
        {
          "output_type": "stream",
          "text": [
            "Train on 8000 samples, validate on 2000 samples\n",
            "Epoch 1/20\n",
            "8000/8000 [==============================] - 3s 397us/sample - loss: 4.5419 - acc: 0.0246 - val_loss: 4.3366 - val_acc: 0.0440\n",
            "Epoch 2/20\n",
            "8000/8000 [==============================] - 2s 278us/sample - loss: 4.1203 - acc: 0.0430 - val_loss: 3.8393 - val_acc: 0.0840\n",
            "Epoch 3/20\n",
            "8000/8000 [==============================] - 2s 279us/sample - loss: 3.2682 - acc: 0.1651 - val_loss: 2.6014 - val_acc: 0.3560\n",
            "Epoch 4/20\n",
            "8000/8000 [==============================] - 2s 280us/sample - loss: 1.7108 - acc: 0.5468 - val_loss: 1.6036 - val_acc: 0.6050\n",
            "Epoch 5/20\n",
            "8000/8000 [==============================] - 2s 283us/sample - loss: 0.6916 - acc: 0.8292 - val_loss: 0.9662 - val_acc: 0.7940\n",
            "Epoch 6/20\n",
            "8000/8000 [==============================] - 2s 276us/sample - loss: 0.2985 - acc: 0.9370 - val_loss: 0.9450 - val_acc: 0.8045\n",
            "Epoch 7/20\n",
            "8000/8000 [==============================] - 2s 279us/sample - loss: 0.1762 - acc: 0.9644 - val_loss: 0.8572 - val_acc: 0.8325\n",
            "Epoch 8/20\n",
            "8000/8000 [==============================] - 2s 277us/sample - loss: 0.1105 - acc: 0.9786 - val_loss: 0.8841 - val_acc: 0.8295\n",
            "Epoch 9/20\n",
            "8000/8000 [==============================] - 2s 282us/sample - loss: 0.0821 - acc: 0.9847 - val_loss: 0.8895 - val_acc: 0.8320\n",
            "Epoch 10/20\n",
            "8000/8000 [==============================] - 2s 277us/sample - loss: 0.0630 - acc: 0.9881 - val_loss: 0.8443 - val_acc: 0.8395\n",
            "Epoch 11/20\n",
            "8000/8000 [==============================] - 2s 279us/sample - loss: 0.0543 - acc: 0.9910 - val_loss: 0.9201 - val_acc: 0.8330\n",
            "Epoch 12/20\n",
            "8000/8000 [==============================] - 2s 278us/sample - loss: 0.0448 - acc: 0.9915 - val_loss: 0.9296 - val_acc: 0.8340\n",
            "Epoch 13/20\n",
            "8000/8000 [==============================] - 2s 277us/sample - loss: 0.0404 - acc: 0.9935 - val_loss: 0.8870 - val_acc: 0.8400\n",
            "Epoch 14/20\n",
            "8000/8000 [==============================] - 2s 277us/sample - loss: 0.0355 - acc: 0.9934 - val_loss: 0.8975 - val_acc: 0.8440\n",
            "Epoch 15/20\n",
            "8000/8000 [==============================] - 2s 279us/sample - loss: 0.0285 - acc: 0.9952 - val_loss: 0.8705 - val_acc: 0.8470\n",
            "Epoch 16/20\n",
            "8000/8000 [==============================] - 2s 279us/sample - loss: 0.0228 - acc: 0.9966 - val_loss: 0.9750 - val_acc: 0.8325\n",
            "Epoch 17/20\n",
            "8000/8000 [==============================] - 2s 279us/sample - loss: 0.0257 - acc: 0.9959 - val_loss: 0.8949 - val_acc: 0.8445\n",
            "Epoch 18/20\n",
            "8000/8000 [==============================] - 2s 276us/sample - loss: 0.0219 - acc: 0.9962 - val_loss: 0.8955 - val_acc: 0.8435\n",
            "Epoch 19/20\n",
            "8000/8000 [==============================] - 2s 277us/sample - loss: 0.0182 - acc: 0.9967 - val_loss: 0.8978 - val_acc: 0.8445\n",
            "Epoch 20/20\n",
            "8000/8000 [==============================] - 2s 281us/sample - loss: 0.0147 - acc: 0.9986 - val_loss: 0.9514 - val_acc: 0.8435\n"
          ],
          "name": "stdout"
        }
      ]
    },
    {
      "metadata": {
        "id": "pd1c-OFDfcib",
        "colab_type": "code",
        "colab": {
          "base_uri": "https://localhost:8080/",
          "height": 735
        },
        "outputId": "ea574ccd-1199-46f6-9e34-86f90c2acda0"
      },
      "cell_type": "code",
      "source": [
        "visualize_training_history(history)"
      ],
      "execution_count": 74,
      "outputs": [
        {
          "output_type": "display_data",
          "data": {
            "image/png": "[encoded data removed]",
            "text/plain": [
              "<Figure size 576x396 with 1 Axes>"
            ]
          },
          "metadata": {
            "tags": []
          }
        },
        {
          "output_type": "display_data",
          "data": {
            "image/png": "[encoded data removed]",
            "text/plain": [
              "<Figure size 576x396 with 1 Axes>"
            ]
          },
          "metadata": {
            "tags": []
          }
        }
      ]
    },
    {
      "metadata": {
        "id": "G3yGzT1jfyOq",
        "colab_type": "code",
        "colab": {}
      },
      "cell_type": "code",
      "source": [
        ""
      ],
      "execution_count": 0,
      "outputs": []
    }
  ]
}