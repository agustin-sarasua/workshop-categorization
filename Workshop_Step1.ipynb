{
  "nbformat": 4,
  "nbformat_minor": 0,
  "metadata": {
    "colab": {
      "name": "Workshop Step1.ipynb",
      "version": "0.3.2",
      "provenance": [],
      "toc_visible": true
    },
    "kernelspec": {
      "name": "python3",
      "display_name": "Python 3"
    },
    "accelerator": "GPU"
  },
  "cells": [
    {
      "metadata": {
        "id": "oGCD2RZaJ8V8",
        "colab_type": "code",
        "colab": {}
      },
      "cell_type": "code",
      "source": [
        "import requests\n",
        "import json\n",
        "from collections import Counter\n",
        "import random\n",
        "\n",
        "#import matplotlib.pyplot as plt\n",
        "#import seaborn as sns\n",
        "\n",
        "#from sklearn import preprocessing\n",
        "#from sklearn.feature_extraction.text import CountVectorizer, TfidfTransformer\n",
        "#from sklearn.decomposition import PCA\n",
        "#from sklearn.pipeline import Pipeline\n",
        "\n",
        "import pandas as pd # data preprocessing\n",
        "import numpy as np # linear algebra\n",
        "\n",
        "#import tensorflow as tf\n",
        "#from tensorflow.keras import layers\n",
        "from tensorflow.python.keras.preprocessing import sequence\n",
        "from tensorflow.python.keras.preprocessing import text\n",
        "\n",
        "pd.set_option('display.max_columns', None)  # or 1000\n",
        "pd.set_option('display.max_rows', None)  # or 1000\n",
        "pd.set_option('display.max_colwidth', -1)  # or 199"
      ],
      "execution_count": 0,
      "outputs": []
    },
    {
      "metadata": {
        "id": "enMJq6gWJ8WB",
        "colab_type": "text"
      },
      "cell_type": "markdown",
      "source": [
        "# Part 1: Train a first Neural Network\n",
        "El objetivo del siguiente notebook es entrenar una red neuronal simple para predecir dominios del dataset.\n",
        "\n",
        "A continuación se muestra la arquitectura de la red a entrenar.\n",
        "\n",
        "\n",
        "![Google's logo](https://www.google.com/images/logos/google_logo_41.png)"
      ]
    },
    {
      "metadata": {
        "id": "KCccfxRWJ8WC",
        "colab_type": "code",
        "colab": {}
      },
      "cell_type": "code",
      "source": [
        ""
      ],
      "execution_count": 0,
      "outputs": []
    },
    {
      "metadata": {
        "id": "8zW5N-UIJ8WE",
        "colab_type": "text"
      },
      "cell_type": "markdown",
      "source": [
        "## Download the dataset\n",
        "El siguiente código descarga el dataset ubicado en Google Drive y lo descomprime "
      ]
    },
    {
      "metadata": {
        "id": "F9H7Nf4tJ8WF",
        "colab_type": "code",
        "outputId": "c0ee9840-ff60-4955-abda-aa5675b555a9",
        "colab": {
          "base_uri": "https://localhost:8080/",
          "height": 85
        }
      },
      "cell_type": "code",
      "source": [
        "#dataset_url = 'https://drive.google.com/file/d/1XbasZMZzSmMUbji1Sslg4vT5MBiIhyFO/view?usp=sharing'\n",
        "\n",
        "def download_file_from_google_drive(id, destination):\n",
        "    URL = \"https://docs.google.com/uc?export=download\"\n",
        "\n",
        "    session = requests.Session()\n",
        "\n",
        "    response = session.get(URL, params = { 'id' : id }, stream = True)\n",
        "    token = get_confirm_token(response)\n",
        "\n",
        "    if token:\n",
        "        params = { 'id' : id, 'confirm' : token }\n",
        "        response = session.get(URL, params = params, stream = True)\n",
        "\n",
        "    save_response_content(response, destination)    \n",
        "\n",
        "def get_confirm_token(response):\n",
        "    for key, value in response.cookies.items():\n",
        "        if key.startswith('download_warning'):\n",
        "            return value\n",
        "\n",
        "    return None\n",
        "\n",
        "def save_response_content(response, destination):\n",
        "    CHUNK_SIZE = 32768\n",
        "\n",
        "    with open(destination, \"wb\") as f:\n",
        "        for chunk in response.iter_content(CHUNK_SIZE):\n",
        "            if chunk: # filter out keep-alive new chunks\n",
        "                f.write(chunk)\n",
        "\n",
        "\n",
        "#download_file_from_google_drive('1BXQGSYbpdDaQdR_MeYfw1q4OjfmyXdmh', 'dataset.zip')                \n",
        "#!unzip 'dataset.zip'\n",
        "\n",
        "download_file_from_google_drive('1nzvm--XkmhjHgngNdjaemFIViXekaVWx', 'sm_dataset.zip')\n",
        "!unzip 'sm_dataset.zip'"
      ],
      "execution_count": 2,
      "outputs": [
        {
          "output_type": "stream",
          "text": [
            "Archive:  sm_dataset.zip\n",
            "  inflating: dataset.csv             \n",
            "   creating: __MACOSX/\n",
            "  inflating: __MACOSX/._dataset.csv  \n"
          ],
          "name": "stdout"
        }
      ]
    },
    {
      "metadata": {
        "id": "z-u-NVhyJ8WL",
        "colab_type": "text"
      },
      "cell_type": "markdown",
      "source": [
        "## Load the dataset using pandas\n",
        "The dataset is a csv file separated with tabs"
      ]
    },
    {
      "metadata": {
        "id": "A3e2QuYlJ8WN",
        "colab_type": "code",
        "colab": {}
      },
      "cell_type": "code",
      "source": [
        "df = pd.read_csv('dataset.csv', sep='\\t')"
      ],
      "execution_count": 0,
      "outputs": []
    },
    {
      "metadata": {
        "id": "TjVDK9CeJ8Wp",
        "colab_type": "text"
      },
      "cell_type": "markdown",
      "source": [
        "## Explore the data"
      ]
    },
    {
      "metadata": {
        "id": "XLZv5tX6J8Wq",
        "colab_type": "text"
      },
      "cell_type": "markdown",
      "source": [
        "Let's do some checks to see if the data makes sense"
      ]
    },
    {
      "metadata": {
        "id": "UghPsiwmJ8Wr",
        "colab_type": "code",
        "outputId": "216d7273-e747-453c-d465-d6b5ca470640",
        "colab": {
          "base_uri": "https://localhost:8080/",
          "height": 204
        }
      },
      "cell_type": "code",
      "source": [
        "df.head()"
      ],
      "execution_count": 4,
      "outputs": [
        {
          "output_type": "execute_result",
          "data": {
            "text/html": [
              "<div>\n",
              "<style scoped>\n",
              "    .dataframe tbody tr th:only-of-type {\n",
              "        vertical-align: middle;\n",
              "    }\n",
              "\n",
              "    .dataframe tbody tr th {\n",
              "        vertical-align: top;\n",
              "    }\n",
              "\n",
              "    .dataframe thead th {\n",
              "        text-align: right;\n",
              "    }\n",
              "</style>\n",
              "<table border=\"1\" class=\"dataframe\">\n",
              "  <thead>\n",
              "    <tr style=\"text-align: right;\">\n",
              "      <th></th>\n",
              "      <th>domain_id</th>\n",
              "      <th>title</th>\n",
              "    </tr>\n",
              "  </thead>\n",
              "  <tbody>\n",
              "    <tr>\n",
              "      <th>0</th>\n",
              "      <td>SANDALS_AND_FLIP_FLOPS</td>\n",
              "      <td>Sandalias Con Plataforma Mini Viamo Usadas Num 33/34 Niña</td>\n",
              "    </tr>\n",
              "    <tr>\n",
              "      <th>1</th>\n",
              "      <td>SPARK_PLUG_WIRESETS</td>\n",
              "      <td>Cable Para Bujia Prestolite (1127) Peugeot 405/1.8/1.9/2.0 1</td>\n",
              "    </tr>\n",
              "    <tr>\n",
              "      <th>2</th>\n",
              "      <td>MOTORCYCLE_HANDLEBAR_GRIPS</td>\n",
              "      <td>Protectores Mda Monster Zanella Zb D 110 4t 2005....</td>\n",
              "    </tr>\n",
              "    <tr>\n",
              "      <th>3</th>\n",
              "      <td>MOTORCYCLE_TIRES</td>\n",
              "      <td>Cubierta Moto 250 17 Hd01-1 Okinoi Okinoi - 110</td>\n",
              "    </tr>\n",
              "    <tr>\n",
              "      <th>4</th>\n",
              "      <td>AUTOMOTIVE_FILTER_KITS</td>\n",
              "      <td>Kit De Filtros Wega Toyota Hilux 2011</td>\n",
              "    </tr>\n",
              "  </tbody>\n",
              "</table>\n",
              "</div>"
            ],
            "text/plain": [
              "                    domain_id  \\\n",
              "0  SANDALS_AND_FLIP_FLOPS       \n",
              "1  SPARK_PLUG_WIRESETS          \n",
              "2  MOTORCYCLE_HANDLEBAR_GRIPS   \n",
              "3  MOTORCYCLE_TIRES             \n",
              "4  AUTOMOTIVE_FILTER_KITS       \n",
              "\n",
              "                                                          title  \n",
              "0  Sandalias Con Plataforma Mini Viamo Usadas Num 33/34 Niña     \n",
              "1  Cable Para Bujia Prestolite (1127) Peugeot 405/1.8/1.9/2.0 1  \n",
              "2  Protectores Mda Monster Zanella Zb D 110 4t 2005....          \n",
              "3  Cubierta Moto 250 17 Hd01-1 Okinoi Okinoi - 110               \n",
              "4  Kit De Filtros Wega Toyota Hilux 2011                         "
            ]
          },
          "metadata": {
            "tags": []
          },
          "execution_count": 4
        }
      ]
    },
    {
      "metadata": {
        "id": "A9g0DmBxJ8Ww",
        "colab_type": "text"
      },
      "cell_type": "markdown",
      "source": [
        "First, find how many classes we have in the dataset. This classes will be the output of the Neural Network"
      ]
    },
    {
      "metadata": {
        "id": "FGS4s5JOJ8Wx",
        "colab_type": "code",
        "outputId": "cde929e2-23a7-49fb-9808-9c04e07da468",
        "colab": {
          "base_uri": "https://localhost:8080/",
          "height": 34
        }
      },
      "cell_type": "code",
      "source": [
        "print(\"Número de classes:\", len(df.domain_id.unique()))"
      ],
      "execution_count": 5,
      "outputs": [
        {
          "output_type": "stream",
          "text": [
            "Número de classes: 100\n"
          ],
          "name": "stdout"
        }
      ]
    },
    {
      "metadata": {
        "id": "pEH-LeQVJ8W0",
        "colab_type": "text"
      },
      "cell_type": "markdown",
      "source": [
        "¿How many items do we have in the dataset?"
      ]
    },
    {
      "metadata": {
        "id": "qYqcMdgIJ8W1",
        "colab_type": "code",
        "outputId": "47b59236-97bf-49dc-faee-cba1e912c717",
        "colab": {
          "base_uri": "https://localhost:8080/",
          "height": 34
        }
      },
      "cell_type": "code",
      "source": [
        "print(\"Número de ejemplos:\", len(df))"
      ],
      "execution_count": 6,
      "outputs": [
        {
          "output_type": "stream",
          "text": [
            "Número de ejemplos: 464092\n"
          ],
          "name": "stdout"
        }
      ]
    },
    {
      "metadata": {
        "id": "6VLur2huJ8W4",
        "colab_type": "text"
      },
      "cell_type": "markdown",
      "source": [
        "Count how many items we have per class and:\n",
        " 1. Make a line plot\n",
        " 2. Plot a histogram distribution to see how balanced are the classes"
      ]
    },
    {
      "metadata": {
        "id": "wbNvdhWkJ8W6",
        "colab_type": "code",
        "outputId": "e46adecd-c525-4d58-9a7f-86e12fdbe9a4",
        "colab": {
          "base_uri": "https://localhost:8080/",
          "height": 364
        }
      },
      "cell_type": "code",
      "source": [
        "plt = (df.groupby('domain_id')\n",
        "             .count()\n",
        "             .sort_values('title', ascending=False)\n",
        "             .reset_index()[['domain_id','title']]\n",
        "             .rename(columns={\"title\":\"counts\"}))['counts'].plot.line()\n",
        "plt.set_ylim(0,5500)"
      ],
      "execution_count": 7,
      "outputs": [
        {
          "output_type": "execute_result",
          "data": {
            "text/plain": [
              "(0, 5500)"
            ]
          },
          "metadata": {
            "tags": []
          },
          "execution_count": 7
        },
        {
          "output_type": "display_data",
          "data": {
            "image/png": "[encoded data removed]",
            "text/plain": [
              "<Figure size 576x396 with 1 Axes>"
            ]
          },
          "metadata": {
            "tags": []
          }
        }
      ]
    },
    {
      "metadata": {
        "id": "gFLW2OHvJ8XA",
        "colab_type": "code",
        "outputId": "184ed425-9232-4445-f8c2-a6e032370c0f",
        "colab": {
          "base_uri": "https://localhost:8080/",
          "height": 364
        }
      },
      "cell_type": "code",
      "source": [
        "(df.groupby('domain_id')\n",
        "             .count()\n",
        "             .reset_index()[['domain_id','title']]\n",
        "             .rename(columns={\"title\":\"counts\"}))['counts'].plot.hist()"
      ],
      "execution_count": 8,
      "outputs": [
        {
          "output_type": "execute_result",
          "data": {
            "text/plain": [
              "<matplotlib.axes._subplots.AxesSubplot at 0x7fabdf12c550>"
            ]
          },
          "metadata": {
            "tags": []
          },
          "execution_count": 8
        },
        {
          "output_type": "display_data",
          "data": {
            "image/png": "[encoded data removed]",
            "text/plain": [
              "<Figure size 576x396 with 1 Axes>"
            ]
          },
          "metadata": {
            "tags": []
          }
        }
      ]
    },
    {
      "metadata": {
        "id": "lyH1T3bgJ8XS",
        "colab_type": "code",
        "colab": {}
      },
      "cell_type": "code",
      "source": [
        ""
      ],
      "execution_count": 0,
      "outputs": []
    },
    {
      "metadata": {
        "id": "5I3aEBqsJ8XV",
        "colab_type": "text"
      },
      "cell_type": "markdown",
      "source": [
        "## Prepare the data"
      ]
    },
    {
      "metadata": {
        "id": "X2pN4U9AbgL6",
        "colab_type": "code",
        "colab": {}
      },
      "cell_type": "code",
      "source": [
        "max_items = 10000"
      ],
      "execution_count": 0,
      "outputs": []
    },
    {
      "metadata": {
        "id": "gEWhtqboJ8XW",
        "colab_type": "text"
      },
      "cell_type": "markdown",
      "source": [
        "### Tokenization"
      ]
    },
    {
      "metadata": {
        "id": "TMsGCFCKJ8XY",
        "colab_type": "text"
      },
      "cell_type": "markdown",
      "source": [
        "Create a vocabulary of words.\n",
        "\n",
        "That is, given the text of the dataset, return a dict of word -> index \n",
        "\n",
        "[\"Kit De Filtros Wega Toyota Hilux 2011\", \"Protectores Mda Monster\", ...]\n",
        "\n",
        "{\"kit\":0, \"de\":1, ... ,\"monster\":121, ...}\n",
        "\n",
        "View https://keras.io/preprocessing/text/"
      ]
    },
    {
      "metadata": {
        "id": "hUEU25koJ8XZ",
        "colab_type": "code",
        "colab": {}
      },
      "cell_type": "code",
      "source": [
        "def build_tokenizer(corpus, num_features=20000):\n",
        "  tokenizer = text.Tokenizer(num_words=num_features, filters='!\"#$%&()*+,-./:;<=>?@[\\\\]^_`{|}~\\t\\n', lower=True, split=' ')\n",
        "  tokenizer.fit_on_texts(corpus)\n",
        "  return tokenizer\n",
        "  "
      ],
      "execution_count": 0,
      "outputs": []
    },
    {
      "metadata": {
        "id": "VA5V9eyZWNen",
        "colab_type": "text"
      },
      "cell_type": "markdown",
      "source": [
        ""
      ]
    },
    {
      "metadata": {
        "id": "pHCbkzwEJ8Xc",
        "colab_type": "code",
        "outputId": "72beea99-60e8-4862-b103-9daf55941845",
        "colab": {
          "base_uri": "https://localhost:8080/",
          "height": 34
        }
      },
      "cell_type": "code",
      "source": [
        "import time\n",
        "tic = time.time()\n",
        "\n",
        "tokenizer = build_tokenizer(df['title'].values)\n",
        "\n",
        "toc = time.time()    \n",
        "print(\"Time to create tokenizer: \" + str(1000*(toc-tic)) + \" ms\")\n"
      ],
      "execution_count": 77,
      "outputs": [
        {
          "output_type": "stream",
          "text": [
            "Time to create tokenizer: 9914.585590362549 ms\n"
          ],
          "name": "stdout"
        }
      ]
    },
    {
      "metadata": {
        "id": "ZMptsfGFXh3j",
        "colab_type": "code",
        "colab": {}
      },
      "cell_type": "code",
      "source": [
        ""
      ],
      "execution_count": 0,
      "outputs": []
    },
    {
      "metadata": {
        "id": "VX9OHUCCXhb-",
        "colab_type": "text"
      },
      "cell_type": "markdown",
      "source": [
        "**word_counts**: ordereddict(\"word\": \"count\")\n",
        "\n",
        "**word_docs**: dic(\"word\": \"count docs it appears\")\n",
        "\n",
        "**word_index**: Vocabulary dict(\"word\":index)\n",
        "\n",
        "**document_count**:int #doc used to fit the Tokenizer."
      ]
    },
    {
      "metadata": {
        "id": "y_a6ujeTYxCd",
        "colab_type": "code",
        "colab": {}
      },
      "cell_type": "code",
      "source": [
        "#print(tokenizer.word_counts)\n",
        "#print(tokenizer.word_counts)\n",
        "#print(tokenizer.word_index)\n",
        "#print(tokenizer.document_count)\n",
        "#print(tokenizer.word_docs)"
      ],
      "execution_count": 0,
      "outputs": []
    },
    {
      "metadata": {
        "id": "_0llRNneb8eB",
        "colab_type": "text"
      },
      "cell_type": "markdown",
      "source": [
        "### Vectorization\n",
        "Now, it is time to vectorizer each individual example using the tokenizer we just created\n",
        "\n",
        "**binary**: Default, 1/0\n",
        "\n",
        "**count**: BoW\n",
        "\n",
        "**tfidf**: Term Frequency-Inverse Document Frequency\n",
        "\n",
        "**freq**: Term Frequency as ratio within the document\n"
      ]
    },
    {
      "metadata": {
        "id": "DM9fAbnIZYzz",
        "colab_type": "code",
        "colab": {}
      },
      "cell_type": "code",
      "source": [
        "'''This function returns a sequence of indices representing the text'''\n",
        "def vectorize_text(text, tokenizer, max_seq_length=12):  \n",
        "  # Vectorize training and validation texts.\n",
        "  text_sequences = tokenizer.texts_to_sequences(text)\n",
        "\n",
        "  # Get max sequence length.\n",
        "  max_length = len(max(text_sequences, key=len))\n",
        "  if max_length > max_seq_length:\n",
        "      max_length = max_seq_length\n",
        "\n",
        "  # Fix sequence length to max value. Sequences shorter than the length are\n",
        "  # padded in the beginning and sequences longer are truncated\n",
        "  # at the beginning.\n",
        "  text_sequences = sequence.pad_sequences(text_sequences, maxlen=max_length)\n",
        "  \n",
        "  return text_sequences"
      ],
      "execution_count": 0,
      "outputs": []
    },
    {
      "metadata": {
        "id": "or2ZwgPALX7E",
        "colab_type": "code",
        "colab": {
          "base_uri": "https://localhost:8080/",
          "height": 51
        },
        "outputId": "1f906a3d-a81b-4e24-b500-eee2e710e9a8"
      },
      "cell_type": "code",
      "source": [
        "x_vectors = vectorize_text(df['title'].values[:100], tokenizer)\n",
        "print(x_vectors.shape)\n",
        "x_vectors_encoded = tokenizer.sequences_to_matrix(x_vectors.tolist(), mode=\"count\")\n",
        "print(x_vectors_encoded.shape)"
      ],
      "execution_count": 86,
      "outputs": [
        {
          "output_type": "stream",
          "text": [
            "(100, 12)\n",
            "(100, 20000)\n"
          ],
          "name": "stdout"
        }
      ]
    },
    {
      "metadata": {
        "id": "TEVT0_zhbm1m",
        "colab_type": "text"
      },
      "cell_type": "markdown",
      "source": [
        "Explore generated features"
      ]
    },
    {
      "metadata": {
        "id": "-G5EMEiN2pyf",
        "colab_type": "code",
        "outputId": "6d7aadaa-f2b8-48d6-ec58-27c7c1fe30ef",
        "colab": {
          "base_uri": "https://localhost:8080/",
          "height": 153
        }
      },
      "cell_type": "code",
      "source": [
        "example_idx = 1000\n",
        "print(df['title'].values[example_idx])\n",
        "#print(text_sequences[1].tolist())\n",
        "idx_tkn ={idx:tkn for tkn, idx in tokenizer.word_index.items()}\n",
        "for tkn in text_sequences[example_idx].tolist():\n",
        "  if tkn > 0:\n",
        "    print(idx_tkn[tkn] ,encoded_docs[example_idx][tkn])\n"
      ],
      "execution_count": 87,
      "outputs": [
        {
          "output_type": "stream",
          "text": [
            "Maceta  Rotomoldeada  Con  Plantas De Interior Y Exterior\n",
            "maceta 0.0\n",
            "con 1.0\n",
            "plantas 0.0\n",
            "de 1.0\n",
            "interior 0.0\n",
            "y 1.0\n",
            "exterior 0.0\n"
          ],
          "name": "stdout"
        }
      ]
    },
    {
      "metadata": {
        "id": "6Jh2lEpRIy66",
        "colab_type": "text"
      },
      "cell_type": "markdown",
      "source": [
        "### Vectorize the labels\n",
        "\n",
        "Add a new column to the pandas dataframe with a integer representing the class label\n"
      ]
    },
    {
      "metadata": {
        "id": "Fy9vjnH6IyoZ",
        "colab_type": "code",
        "colab": {}
      },
      "cell_type": "code",
      "source": [
        "from tensorflow.python.keras.utils import to_categorical\n",
        "\n",
        "'''This function append a new column called \"label\" with an integer that uniquely identify that domain_id.\n",
        "See https://pandas.pydata.org/pandas-docs/stable/reference/api/pandas.factorize.html\n",
        "'''\n",
        "def vectorize_labels(df):\n",
        "  df['label'] = df['domain_id'].factorize()[0]\n",
        "\n",
        "'''We will be using categorical_crossentropy loss function (softmax), for this reason, we need to use one_hot encoding for our labels\n",
        "  This menas, the representation should look like: [0, 0, ..., 1, 0] sparse vector with a \"1\" in the position of the target label.\n",
        "  See https://keras.io/utils/ (to_categorial function)\n",
        "'''  \n",
        "\n",
        "def encode_labels(labels):\n",
        "  # Convert labels to categorical one-hot encoding\n",
        "  one_hot_labels = to_categorical(labels)\n",
        "  return one_hot_labels\n",
        "  \n",
        "  \n",
        "'''This builds the labels vocabulary. It shoud return a dictionary with the following format: \n",
        "{..., 1: \"TABLETS\", 2: \"CELLPHONES\", ...}\n",
        "'''\n",
        "def build_idx_to_label(df):\n",
        "  idx_to_label = {idx:domain_id for domain_id, idx in df.groupby(['domain_id', 'label']).groups.keys()}\n",
        "  return idx_to_label\n"
      ],
      "execution_count": 0,
      "outputs": []
    },
    {
      "metadata": {
        "id": "wX9jCS0rJIcs",
        "colab_type": "text"
      },
      "cell_type": "markdown",
      "source": [
        "Check that all the training examples belonging to the same domain have the same vectorizer label"
      ]
    },
    {
      "metadata": {
        "id": "3PUsEtRaJF-W",
        "colab_type": "code",
        "outputId": "a756caaf-0fd7-41fb-a858-fae1ba59236b",
        "colab": {
          "base_uri": "https://localhost:8080/",
          "height": 34
        }
      },
      "cell_type": "code",
      "source": [
        "vectorize_labels(df)  \n",
        "idx_to_label = build_idx_to_label(df)\n",
        "\n",
        "assert df[df['label']==3].reset_index().iloc[0]['domain_id'] == idx_to_label[3]\n",
        "df.head()\n",
        "\n",
        "labels = encode_labels(df['label'].values)\n",
        "print(df.iloc[0]['domain_id'], df.iloc[0]['label'])\n",
        "assert labels[0][df.iloc[0]['label']] == 1 "
      ],
      "execution_count": 150,
      "outputs": [
        {
          "output_type": "stream",
          "text": [
            "SANDALS_AND_FLIP_FLOPS 0\n"
          ],
          "name": "stdout"
        }
      ]
    },
    {
      "metadata": {
        "id": "gA0R1Zu7H30D",
        "colab_type": "text"
      },
      "cell_type": "markdown",
      "source": [
        "### Split the dataset in Train, Dev and Test sets\n",
        "\n",
        "NOTE: Remember to always random shuffle the dataset before splitting it.\n",
        "\n",
        "See:\n",
        "\n",
        "https://pandas.pydata.org/pandas-docs/stable/reference/api/pandas.DataFrame.sample.html\n",
        "\n",
        "https://pandas.pydata.org/pandas-docs/stable/reference/api/pandas.DataFrame.reset_index.html\n"
      ]
    },
    {
      "metadata": {
        "id": "Kp8B8VVBfh_G",
        "colab_type": "code",
        "colab": {}
      },
      "cell_type": "code",
      "source": [
        "def split_dataset(df, train_size=10000, dev_size=1000, test_size=1000):\n",
        "  # Random shuffle the dataset rows\n",
        "  df = df.sample(frac=1).reset_index(drop=True)\n",
        "  df_train = df[:train_size].reset_index(drop=True)\n",
        "  df_dev = df[train_size:(train_size+dev_size)].reset_index(drop=True)\n",
        "  df_test = df[(train_size + dev_size):(train_size + dev_size + test_size)].reset_index(drop=True)\n",
        "  return df_train, df_dev, df_test"
      ],
      "execution_count": 0,
      "outputs": []
    },
    {
      "metadata": {
        "id": "GkuBE5TrfJL6",
        "colab_type": "code",
        "colab": {}
      },
      "cell_type": "code",
      "source": [
        "df_train, df_dev, df_test = split_dataset(df)\n",
        "assert len(df_train) == 10000\n",
        "assert len(df_dev) == 1000\n",
        "assert len(df_test) == 1000"
      ],
      "execution_count": 0,
      "outputs": []
    },
    {
      "metadata": {
        "id": "b7i8zjWCb6sF",
        "colab_type": "text"
      },
      "cell_type": "markdown",
      "source": [
        "Finally, create the encoder for the different sets"
      ]
    },
    {
      "metadata": {
        "id": "HvaXQjxYw7QE",
        "colab_type": "code",
        "colab": {}
      },
      "cell_type": "code",
      "source": [
        "x_train = vectorize_text(df_train['title'].values, tokenizer)\n",
        "x_train_encoded = tokenizer.sequences_to_matrix(x_train.tolist(), mode=\"count\")\n",
        "y_train_encoded = encode_labels(df_train['label'].values)\n",
        "\n",
        "x_dev = vectorize_text(df_dev['title'].values, tokenizer)\n",
        "x_dev_encoded = tokenizer.sequences_to_matrix(x_dev.tolist(), mode=\"count\")\n",
        "y_dev_encoded = encode_labels(df_dev['label'].values)\n",
        "\n",
        "x_test = vectorize_text(df_test['title'].values, tokenizer)\n",
        "x_test_encoded = tokenizer.sequences_to_matrix(x_test.tolist(), mode=\"count\")\n",
        "y_test_encoded = encode_labels(df_test['label'].values)"
      ],
      "execution_count": 0,
      "outputs": []
    },
    {
      "metadata": {
        "id": "ozOxCxGaJ8Xg",
        "colab_type": "code",
        "colab": {
          "base_uri": "https://localhost:8080/",
          "height": 51
        },
        "outputId": "651495ef-1c5d-4ac9-bb24-cbd7780e8a07"
      },
      "cell_type": "code",
      "source": [
        "print(x_train_encoded.shape)\n",
        "print(y_train_encoded.shape)"
      ],
      "execution_count": 154,
      "outputs": [
        {
          "output_type": "stream",
          "text": [
            "(10000, 20000)\n",
            "(10000, 100)\n"
          ],
          "name": "stdout"
        }
      ]
    },
    {
      "metadata": {
        "id": "cWqscVe0J8Xi",
        "colab_type": "text"
      },
      "cell_type": "markdown",
      "source": [
        "## Build the model\n",
        "\n",
        "We will first create a model using Keras Sequential API\n",
        "\n",
        "Learn More: https://keras.io/getting-started/sequential-model-guide/"
      ]
    },
    {
      "metadata": {
        "id": "AKcmZb3cJ8Xk",
        "colab_type": "code",
        "colab": {}
      },
      "cell_type": "code",
      "source": [
        "from tensorflow.python.keras.models import Sequential\n",
        "from tensorflow.python.keras.layers import Dense, Activation\n",
        "\n",
        "def build_model(num_features, num_classes):\n",
        "  model = Sequential([\n",
        "      Dense(1024, input_shape=(num_features,)),\n",
        "      Activation('relu'),\n",
        "      Dense(num_classes),\n",
        "      Activation('softmax'),\n",
        "  ])\n",
        "\n",
        "  # For a multi-class classification problem\n",
        "  model.compile(optimizer='adam',\n",
        "                loss='categorical_crossentropy',\n",
        "                metrics=['accuracy'])\n",
        "  return model"
      ],
      "execution_count": 0,
      "outputs": []
    },
    {
      "metadata": {
        "id": "JouXJYvMfoYP",
        "colab_type": "code",
        "colab": {}
      },
      "cell_type": "code",
      "source": [
        "model = build_model(x_train_encoded.shape[1], y_train_encoded.shape[1])"
      ],
      "execution_count": 0,
      "outputs": []
    },
    {
      "metadata": {
        "id": "VtI1TJ61gUqQ",
        "colab_type": "text"
      },
      "cell_type": "markdown",
      "source": [
        "### Visualizing the Neural Network"
      ]
    },
    {
      "metadata": {
        "id": "lv8ShNIygWVW",
        "colab_type": "code",
        "outputId": "b321c60c-f5a8-4f20-eec5-9b394793d214",
        "colab": {
          "base_uri": "https://localhost:8080/",
          "height": 153
        }
      },
      "cell_type": "code",
      "source": [
        "# Install dependencies\n",
        "!apt install graphviz\n",
        "!pip install pydot pydot-ng"
      ],
      "execution_count": 107,
      "outputs": [
        {
          "output_type": "stream",
          "text": [
            "Reading package lists... Done\n",
            "Building dependency tree       \n",
            "Reading state information... Done\n",
            "graphviz is already the newest version (2.40.1-2).\n",
            "0 upgraded, 0 newly installed, 0 to remove and 8 not upgraded.\n",
            "Requirement already satisfied: pydot in /usr/local/lib/python3.6/dist-packages (1.3.0)\n",
            "Requirement already satisfied: pydot-ng in /usr/local/lib/python3.6/dist-packages (2.0.0)\n",
            "Requirement already satisfied: pyparsing>=2.1.4 in /usr/local/lib/python3.6/dist-packages (from pydot) (2.3.1)\n"
          ],
          "name": "stdout"
        }
      ]
    },
    {
      "metadata": {
        "id": "4Hrgv5R2gewH",
        "colab_type": "code",
        "outputId": "a343496f-ca27-4550-ad31-8910c7ee96b6",
        "colab": {
          "base_uri": "https://localhost:8080/",
          "height": 540
        }
      },
      "cell_type": "code",
      "source": [
        "from keras.utils import plot_model\n",
        "from IPython.display import Image\n",
        "\n",
        "# Model summary\n",
        "print(model.summary())\n",
        "\n",
        "# Plot model graph\n",
        "plot_model(model, show_shapes=True, show_layer_names=True, to_file='model.png')\n",
        "Image(retina=True, filename='model.png')"
      ],
      "execution_count": 108,
      "outputs": [
        {
          "output_type": "stream",
          "text": [
            "_________________________________________________________________\n",
            "Layer (type)                 Output Shape              Param #   \n",
            "=================================================================\n",
            "dense_4 (Dense)              (None, 1024)              20481024  \n",
            "_________________________________________________________________\n",
            "activation_4 (Activation)    (None, 1024)              0         \n",
            "_________________________________________________________________\n",
            "dense_5 (Dense)              (None, 100)               102500    \n",
            "_________________________________________________________________\n",
            "activation_5 (Activation)    (None, 100)               0         \n",
            "=================================================================\n",
            "Total params: 20,583,524\n",
            "Trainable params: 20,583,524\n",
            "Non-trainable params: 0\n",
            "_________________________________________________________________\n",
            "None\n"
          ],
          "name": "stdout"
        },
        {
          "output_type": "execute_result",
          "data": {
            "image/png": "[encoded data removed]",
            "text/plain": [
              "<IPython.core.display.Image object>"
            ]
          },
          "metadata": {
            "tags": [],
            "image/png": {
              "width": 210,
              "height": 251
            }
          },
          "execution_count": 108
        }
      ]
    },
    {
      "metadata": {
        "id": "ar_Po308J8Xn",
        "colab_type": "text"
      },
      "cell_type": "markdown",
      "source": [
        "## Train the model"
      ]
    },
    {
      "metadata": {
        "id": "c4RAKqDTJ8Xo",
        "colab_type": "text"
      },
      "cell_type": "markdown",
      "source": [
        "It is time to train the model\n",
        "\n",
        "See: https://keras.io/models/model/ (fit function)"
      ]
    },
    {
      "metadata": {
        "id": "SQdylu9sJ8Xo",
        "colab_type": "code",
        "colab": {
          "base_uri": "https://localhost:8080/",
          "height": 374
        },
        "outputId": "051691f7-cf21-42a3-e982-df47aac03047"
      },
      "cell_type": "code",
      "source": [
        "# Train and validate model.\n",
        "history = model.fit(\n",
        "    x_train_encoded,\n",
        "    y_train_encoded,\n",
        "    epochs=10,\n",
        "    validation_data=(x_dev_encoded, y_dev_encoded),\n",
        "    verbose=1,  # Logs once per epoch.\n",
        "    batch_size=256)"
      ],
      "execution_count": 109,
      "outputs": [
        {
          "output_type": "stream",
          "text": [
            "Train on 10000 samples, validate on 1000 samples\n",
            "Epoch 1/10\n",
            "10000/10000 [==============================] - 3s 296us/sample - loss: 3.8118 - acc: 0.5569 - val_loss: 2.4668 - val_acc: 0.8280\n",
            "Epoch 2/10\n",
            "10000/10000 [==============================] - 3s 261us/sample - loss: 1.2663 - acc: 0.9137 - val_loss: 0.8718 - val_acc: 0.8950\n",
            "Epoch 3/10\n",
            "10000/10000 [==============================] - 3s 262us/sample - loss: 0.3603 - acc: 0.9649 - val_loss: 0.5803 - val_acc: 0.9080\n",
            "Epoch 4/10\n",
            "10000/10000 [==============================] - 3s 263us/sample - loss: 0.1705 - acc: 0.9819 - val_loss: 0.5003 - val_acc: 0.9130\n",
            "Epoch 5/10\n",
            "10000/10000 [==============================] - 3s 259us/sample - loss: 0.0976 - acc: 0.9919 - val_loss: 0.4640 - val_acc: 0.9120\n",
            "Epoch 6/10\n",
            "10000/10000 [==============================] - 3s 261us/sample - loss: 0.0651 - acc: 0.9952 - val_loss: 0.4316 - val_acc: 0.9130\n",
            "Epoch 7/10\n",
            "10000/10000 [==============================] - 3s 259us/sample - loss: 0.0474 - acc: 0.9955 - val_loss: 0.4232 - val_acc: 0.9130\n",
            "Epoch 8/10\n",
            "10000/10000 [==============================] - 3s 260us/sample - loss: 0.0375 - acc: 0.9967 - val_loss: 0.4156 - val_acc: 0.9070\n",
            "Epoch 9/10\n",
            "10000/10000 [==============================] - 3s 259us/sample - loss: 0.0348 - acc: 0.9961 - val_loss: 0.4024 - val_acc: 0.9160\n",
            "Epoch 10/10\n",
            "10000/10000 [==============================] - 3s 261us/sample - loss: 0.0243 - acc: 0.9975 - val_loss: 0.4011 - val_acc: 0.9120\n"
          ],
          "name": "stdout"
        }
      ]
    },
    {
      "metadata": {
        "id": "i6LhfBz2dbzk",
        "colab_type": "text"
      },
      "cell_type": "markdown",
      "source": [
        "### Visualizing learning curve"
      ]
    },
    {
      "metadata": {
        "id": "zfbZ5i2OcbXZ",
        "colab_type": "code",
        "colab": {}
      },
      "cell_type": "code",
      "source": [
        "import matplotlib.pyplot as plt\n",
        "\n",
        "def visualize_training_history(history):\n",
        "  # Plot training & validation accuracy values\n",
        "  plt.plot(history.history['acc'])\n",
        "  plt.plot(history.history['val_acc'])\n",
        "  plt.title('Model accuracy')\n",
        "  plt.ylabel('Accuracy')\n",
        "  plt.xlabel('Epoch')\n",
        "  plt.legend(['Train', 'Test'], loc='upper left')\n",
        "  plt.show()\n",
        "\n",
        "  # Plot training & validation loss values\n",
        "  plt.plot(history.history['loss'])\n",
        "  plt.plot(history.history['val_loss'])\n",
        "  plt.title('Model loss')\n",
        "  plt.ylabel('Loss')\n",
        "  plt.xlabel('Epoch')\n",
        "  plt.legend(['Train', 'Test'], loc='upper left')\n",
        "  plt.show()"
      ],
      "execution_count": 0,
      "outputs": []
    },
    {
      "metadata": {
        "id": "OS-w2-Ssdf2U",
        "colab_type": "code",
        "outputId": "e7679319-60b0-4faf-bced-842112cb47b2",
        "colab": {
          "base_uri": "https://localhost:8080/",
          "height": 735
        }
      },
      "cell_type": "code",
      "source": [
        "visualize_training_history(history)"
      ],
      "execution_count": 111,
      "outputs": [
        {
          "output_type": "display_data",
          "data": {
            "image/png": "[encoded data removed]",
            "text/plain": [
              "<Figure size 576x396 with 1 Axes>"
            ]
          },
          "metadata": {
            "tags": []
          }
        },
        {
          "output_type": "display_data",
          "data": {
            "image/png": "[encoded data removed]",
            "text/plain": [
              "<Figure size 576x396 with 1 Axes>"
            ]
          },
          "metadata": {
            "tags": []
          }
        }
      ]
    },
    {
      "metadata": {
        "id": "SoGmfw3UmV6I",
        "colab_type": "text"
      },
      "cell_type": "markdown",
      "source": [
        "## Evaluate the model on the test set"
      ]
    },
    {
      "metadata": {
        "id": "adoJ6aYQmcu9",
        "colab_type": "code",
        "colab": {}
      },
      "cell_type": "code",
      "source": [
        "y_pred_test = model.predict(x_test_encoded)"
      ],
      "execution_count": 0,
      "outputs": []
    },
    {
      "metadata": {
        "id": "qyYAjnwWFt7S",
        "colab_type": "code",
        "colab": {
          "base_uri": "https://localhost:8080/",
          "height": 34
        },
        "outputId": "d191f2fa-eb6d-42f0-d259-396e7393c803"
      },
      "cell_type": "code",
      "source": [
        "y_pred_test.shape\n"
      ],
      "execution_count": 117,
      "outputs": [
        {
          "output_type": "execute_result",
          "data": {
            "text/plain": [
              "(1000,)"
            ]
          },
          "metadata": {
            "tags": []
          },
          "execution_count": 117
        }
      ]
    },
    {
      "metadata": {
        "id": "XEfMmxSwmqpI",
        "colab_type": "text"
      },
      "cell_type": "markdown",
      "source": [
        "### Visualize the Confusion Matrix"
      ]
    },
    {
      "metadata": {
        "id": "s9Q-qG5oFgTU",
        "colab_type": "code",
        "colab": {
          "base_uri": "https://localhost:8080/",
          "height": 513
        },
        "outputId": "f962b7ed-8b1a-4f7c-d8a5-7e2b1e379bf0"
      },
      "cell_type": "code",
      "source": [
        "# https://github.com/sepandhaghighi/pycm\n",
        "!pip install pycm==1.8"
      ],
      "execution_count": 115,
      "outputs": [
        {
          "output_type": "stream",
          "text": [
            "Requirement already satisfied: pycm==1.8 in /usr/local/lib/python3.6/dist-packages (1.8)\n",
            "Requirement already satisfied: pytest-cov>=2.5.1 in /usr/local/lib/python3.6/dist-packages (from pycm==1.8) (2.6.1)\n",
            "Requirement already satisfied: pytest>=3.8.1 in /usr/local/lib/python3.6/dist-packages (from pycm==1.8) (3.10.1)\n",
            "Requirement already satisfied: codecov>=2.0.15 in /usr/local/lib/python3.6/dist-packages (from pycm==1.8) (2.0.15)\n",
            "Requirement already satisfied: art>=1.8 in /usr/local/lib/python3.6/dist-packages (from pycm==1.8) (3.0)\n",
            "Requirement already satisfied: numpy>=1.9.0 in /usr/local/lib/python3.6/dist-packages (from pycm==1.8) (1.14.6)\n",
            "Collecting coverage>=4.4 (from pytest-cov>=2.5.1->pycm==1.8)\n",
            "\u001b[?25l  Downloading https://files.pythonhosted.org/packages/a4/5c/b3eac6aa7eb4af83c8580d9c1578343910bdcc59e64e3565402f9a527f9c/coverage-4.5.2-cp36-cp36m-manylinux1_x86_64.whl (205kB)\n",
            "\u001b[K    100% |████████████████████████████████| 215kB 28.1MB/s \n",
            "\u001b[?25hRequirement already satisfied: six>=1.10.0 in /usr/local/lib/python3.6/dist-packages (from pytest>=3.8.1->pycm==1.8) (1.11.0)\n",
            "Requirement already satisfied: attrs>=17.4.0 in /usr/local/lib/python3.6/dist-packages (from pytest>=3.8.1->pycm==1.8) (18.2.0)\n",
            "Requirement already satisfied: py>=1.5.0 in /usr/local/lib/python3.6/dist-packages (from pytest>=3.8.1->pycm==1.8) (1.7.0)\n",
            "Requirement already satisfied: setuptools in /usr/local/lib/python3.6/dist-packages (from pytest>=3.8.1->pycm==1.8) (40.8.0)\n",
            "Requirement already satisfied: pluggy>=0.7 in /usr/local/lib/python3.6/dist-packages (from pytest>=3.8.1->pycm==1.8) (0.8.1)\n",
            "Requirement already satisfied: more-itertools>=4.0.0 in /usr/local/lib/python3.6/dist-packages (from pytest>=3.8.1->pycm==1.8) (6.0.0)\n",
            "Requirement already satisfied: atomicwrites>=1.0 in /usr/local/lib/python3.6/dist-packages (from pytest>=3.8.1->pycm==1.8) (1.3.0)\n",
            "Requirement already satisfied: requests>=2.7.9 in /usr/local/lib/python3.6/dist-packages (from codecov>=2.0.15->pycm==1.8) (2.18.4)\n",
            "Requirement already satisfied: idna<2.7,>=2.5 in /usr/local/lib/python3.6/dist-packages (from requests>=2.7.9->codecov>=2.0.15->pycm==1.8) (2.6)\n",
            "Requirement already satisfied: urllib3<1.23,>=1.21.1 in /usr/local/lib/python3.6/dist-packages (from requests>=2.7.9->codecov>=2.0.15->pycm==1.8) (1.22)\n",
            "Requirement already satisfied: chardet<3.1.0,>=3.0.2 in /usr/local/lib/python3.6/dist-packages (from requests>=2.7.9->codecov>=2.0.15->pycm==1.8) (3.0.4)\n",
            "Requirement already satisfied: certifi>=2017.4.17 in /usr/local/lib/python3.6/dist-packages (from requests>=2.7.9->codecov>=2.0.15->pycm==1.8) (2018.11.29)\n",
            "\u001b[31mdatascience 0.10.6 has requirement coverage==3.7.1, but you'll have coverage 4.5.2 which is incompatible.\u001b[0m\n",
            "\u001b[31mcoveralls 0.5 has requirement coverage<3.999,>=3.6, but you'll have coverage 4.5.2 which is incompatible.\u001b[0m\n",
            "Installing collected packages: coverage\n",
            "  Found existing installation: coverage 3.7.1\n",
            "    Uninstalling coverage-3.7.1:\n",
            "      Successfully uninstalled coverage-3.7.1\n",
            "Successfully installed coverage-4.5.2\n"
          ],
          "name": "stdout"
        }
      ]
    },
    {
      "metadata": {
        "id": "R7GIkmLzt60Q",
        "colab_type": "code",
        "colab": {}
      },
      "cell_type": "code",
      "source": [
        "from pycm import *\n",
        "\n",
        "y_pred = np.argmax(y_pred_test, axis=1)\n",
        "y_act = np.argmax(y_test_encoded, axis=1)\n",
        "\n",
        "cm = ConfusionMatrix(actual_vector=y_act, predict_vector=y_pred)"
      ],
      "execution_count": 0,
      "outputs": []
    },
    {
      "metadata": {
        "id": "x9hJQMtHu7xx",
        "colab_type": "code",
        "colab": {
          "base_uri": "https://localhost:8080/",
          "height": 153
        },
        "outputId": "2249bc80-c318-4785-929b-c630955c2429"
      },
      "cell_type": "code",
      "source": [
        "#cm.print_matrix()\n",
        "#cm.print_normalized_matrix()\n",
        "print(idx_to_label[2], len(df_test[df_test['domain_id']==idx_to_label[2]]))\n",
        "cm.print_matrix(one_vs_all=True,class_name=2)"
      ],
      "execution_count": 129,
      "outputs": [
        {
          "output_type": "stream",
          "text": [
            "MOTORCYCLE_HANDLEBAR_GRIPS 7\n",
            "Predict          2      ~      \n",
            "Actual\n",
            "2                7      0      \n",
            "\n",
            "~                0      993    \n",
            "\n",
            "\n"
          ],
          "name": "stdout"
        }
      ]
    },
    {
      "metadata": {
        "id": "H4HNJhvq1PXM",
        "colab_type": "code",
        "colab": {}
      },
      "cell_type": "code",
      "source": [
        "def print_errors(df_s, y_act, y_pred, idx_to_label):\n",
        "  for idx, row in df_s.iterrows():\n",
        "    if y_act[idx] != y_pred[idx]:\n",
        "      print(row['title'], 'Truth:', row['domain_id'], 'Prediction:',idx_to_label[y_pred[idx]])"
      ],
      "execution_count": 0,
      "outputs": []
    },
    {
      "metadata": {
        "id": "eH-6igbZ3HAK",
        "colab_type": "code",
        "colab": {
          "base_uri": "https://localhost:8080/",
          "height": 85
        },
        "outputId": "7f35220a-6dd4-4796-c905-760bc979afb4"
      },
      "cell_type": "code",
      "source": [
        "print(y_act[:10])\n",
        "print(y_pred[:10])\n",
        "print(df_test.iloc[0]['title'], df_test.iloc[0]['domain_id'], idx_to_label[y_pred[0]])\n",
        "print(idx_to_label[y_pred[0]])\n"
      ],
      "execution_count": 157,
      "outputs": [
        {
          "output_type": "stream",
          "text": [
            "[44 48 51 86 30  1 47 46 36 45]\n",
            "[44 48 51 86 30  1 47 46 36 45]\n",
            "Kit De Embrague Peugeot 307 Sw 1.6 Hdi 16v 100% Original AUTOMOTIVE_CLUTCH_KITS PLANTS\n",
            "PLANTS\n"
          ],
          "name": "stdout"
        }
      ]
    },
    {
      "metadata": {
        "id": "MeWMXzP52ycQ",
        "colab_type": "code",
        "colab": {
          "base_uri": "https://localhost:8080/",
          "height": 1377
        },
        "outputId": "9e90ffac-4755-4f48-9657-1b2b7537fa1c"
      },
      "cell_type": "code",
      "source": [
        "print_errors(df_test, y_act, y_pred, idx_to_label)"
      ],
      "execution_count": 156,
      "outputs": [
        {
          "output_type": "stream",
          "text": [
            "Motor Burro De Arranque Mercedes Benz 615d 1996 1997 1998 Truth: STARTERS Prediction: DATA_CABLES\n",
            "Inyectores Ford Escort 1.8 95/02 Truth: FUEL_INJECTORS Prediction: MANGA\n",
            "Lego 41145 Disney Ariel Y El Hechizo Mágico Envio S/c Truth: TOY_BUILDING_SETS Prediction: DECORATIVE_VINYLS\n",
            "Soporte De Motor Chevrolet S-10 Con Motor Mwm Rey Goma Truth: AUTOMOTIVE_ENGINE_MOUNTS Prediction: DIECAST_CARS\n",
            "Cuadro Rey De Prusia Friedrich Der Grobe Truth: PAINTINGS Prediction: COLLECTIBLE_POSTAGE_STAMPS\n",
            "El Marginal  Serie Completa En Dvd 720p Tv Publica Truth: TV_SERIES Prediction: INTEGRATED_CIRCUITS\n",
            "Calco Levanta Baul - Envios A Todo El Pais Truth: VEHICLE_STICKERS Prediction: DIECAST_CARS\n",
            "Insignias De Mercedes 1517 Truth: AUTOMOTIVE_EMBLEMS Prediction: AUTOMOTIVE_MOLDINGS\n",
            "Lapicera Faber - Castell Basic (18145) Truth: PENS Prediction: PANTS\n",
            "Filtro Aire Brava Altino180  Original Paredesbiker Truth: MOTORCYCLE_AIR_FILTERS Prediction: WOMEN_SWIMWEAR\n",
            "Cuadros Decorativos Dachsund - Perro Salchicha Art 27x42cm Truth: PAINTINGS Prediction: HANDBAGS\n",
            "Antiguo Botella Truth: COLLECTIBLE_CANS_AND_BOTTLES Prediction: CATS_AND_DOGS_FOODS\n",
            "Bobina De Encendido Ford Escort 4p/5p/sw 1.6 01/02 Truth: AUTOMOTIVE_IGNITION_COILS Prediction: AUTOMOTIVE_MOLDINGS\n",
            "Cd Key,cevin / Marshall,ken Dragon Experience Metropolis Rec Truth: MUSIC_ALBUMS Prediction: PANTS\n",
            "Urinary S/o Hd Gato 1,5 Kg Royal Canin - Mascota Food Truth: CATS_AND_DOGS_FOODS Prediction: COLLECTIBLE_POSTAGE_STAMPS\n",
            "Repuesto Taza Bose X 3 Truth: AUTOMOTIVE_WHEEL_COVERS Prediction: WOMEN_SWIMWEAR\n",
            "Kit De Distribucion Peugeot 407 Desde 2005 Truth: DISTRIBUTION_KITS Prediction: PENS\n",
            "Sensor De Rpm Ford Explorer 4.0 91/02 Truth: ENGINE_CRANKSHAFT_POSITION_SENSORS Prediction: SPARK_PLUGS\n",
            "Puerta Corrediza De Embutir Durlock Pino 80 Marco Chapa Truth: DOORS Prediction: SPARK_PLUGS\n",
            "Parrilla Fiat Linea Delantera Izquierda C/rotula Ir Truth: AUTOMOTIVE_SUSPENSION_CONTROL_ARMS Prediction: EARRINGS\n",
            "Publicidad Ford Camioneta Pick Up F100 Siempre Algo Mejor Truth: POSTERS Prediction: INTEGRATED_CIRCUITS\n",
            "Bolsitas Tipo Morrales De Superheroes 15x20 Truth: COMMERCIAL_AND_EVENT_BAGS Prediction: DATA_CABLES\n",
            "Parrilla De Suspension Peugeot 306 3p/4p/5p/break 97/01 Truth: AUTOMOTIVE_SUSPENSION_CONTROL_ARMS Prediction: LEARNING_TOYS\n",
            "Lentes De Sol Retro Años 90 Rojos Vintage Truth: SUNGLASSES Prediction: PENS\n",
            "Eden's Bowy 09 (comic) - Kitsune Tennoji Truth: MANGA Prediction: AUTOMOTIVE_BUMPER_GRILLES\n",
            "Manga Dnangel Ivrea Tomos Del 1 Al 7 Truth: MANGA Prediction: MANGA\n",
            "Cortinas Roller Blackout Blanco 130 X 160 En Sistema Promo Truth: INDOOR_CURTAINS_AND_BLINDS Prediction: SHIRTS\n",
            "Acdelco 22850357 Gm Cable Batería Positivo Original Equipo Truth: SPARK_PLUG_WIRESETS Prediction: BOARD_GAMES\n",
            "Paragolpe Delantero Hyindai H100 1997 1998 1999 2000 2001  Truth: AUTOMOTIVE_FRONT_BUMPERS Prediction: BOARD_GAMES\n",
            "1970 Chevy El Camino Ss 396 Escala 1/24 Motormax Diecast Truth: DIECAST_CARS Prediction: SHIRTS\n",
            "Bolsas Personalizadas Polipropileno 30x40/30 X 3500 Unid. Truth: COMMERCIAL_AND_EVENT_BAGS Prediction: POSTERS\n",
            "Bomba De Nafta Completa Vw Pointer 2.0 3 Bar Truth: AUTOMOBILE_FUEL_PUMPS Prediction: PANTS\n",
            "Jeans Legacy Denim Hombre Truth: PANTS Prediction: MANGA\n",
            "Notebook Cloudbook Samsung Intel N3060 Hd Hdmi Bluetooth Truth: NOTEBOOKS Prediction: DIECAST_CARS\n",
            "Puerta Exterior Aluminio C/aplique Acero Inox Horiz 0.80 Truth: DOORS Prediction: TELEVISIONS\n",
            "Kit Embrague Renault Laguna-megane-scenic 1.9 Tdi Truth: AUTOMOTIVE_CLUTCH_KITS Prediction: JACKETS_AND_COATS\n",
            "Amplificador Ss Pro 20 Watts Para Guitarra Truth: INSTRUMENT_AMPLIFIERS Prediction: DECORATIVE_VINYLS\n",
            "Guardabarro Trasero Derecho Peugeot 308 Truth: AUTOMOTIVE_FENDERS Prediction: INTEGRATED_CIRCUITS\n",
            "Kit Distribución Skf Peugeot 405 Familiar 1.9 Nafta 91-97 Truth: DISTRIBUTION_KITS Prediction: COLLECTIBLE_POSTAGE_STAMPS\n",
            "Cd Luz De Cumbia - Loca Por Amor Truth: MUSIC_ALBUMS Prediction: DECORATIVE_VINYLS\n",
            "3 Cuadros Nordico Escandinavo Hipser Carpe Diem 20x30 C/u Truth: PAINTINGS Prediction: MANGA\n",
            "Autitos Hot Wheels Linterna Verde Y Batimobil Truth: DIECAST_CARS Prediction: AUTOMOTIVE_MOLDINGS\n",
            "Bikini Importada 2017 Top Crop Talle  L Truth: WOMEN_SWIMWEAR Prediction: DIECAST_CARS\n",
            "Ovejero Belga Serv De Cruza Truth: PUREBRED_DOGS Prediction: VEHICLE_STICKERS\n",
            "Colchon Alta Densidad Fisher 2 Plazas 140x190 - 30kg/m3 Truth: MATTRESSES Prediction: AUTOMOTIVE_BUMPER_GRILLES\n",
            "Inyector Iwp114 Volkswagen Gol (95') 2.0 95/99 Truth: FUEL_INJECTORS Prediction: AUTOMOTIVE_MOLDINGS\n",
            "Notebook Acer Swift 3 Sf314-52-527 8/256ssd W Truth: NOTEBOOKS Prediction: LEARNING_TOYS\n",
            "K & N Ra -057v Universal Clamp- En Aire Filter: Ronda Derech Truth: MOTORCYCLE_FAIRINGS Prediction: BOARD_GAMES\n",
            "Zeiger Compatible Con Manzana Reloj Híbrido Sports Banda Ba Truth: WRISTWATCHES Prediction: PAINTINGS\n",
            "Inyector Iwp044 Volkswagen Polo Classic (96') 1.8 97/01 Truth: FUEL_INJECTORS Prediction: PARTY_PRINTABLE_KITS\n",
            "Lapicera N147 Truth: PENS Prediction: COLLECTIBLE_BILLS\n",
            "Adhesivo Lamina Seguridad Accidente Vidris Rollo Oferta 3mt Truth: VEHICLE_STICKERS Prediction: INTEGRATED_CIRCUITS\n",
            "Cartera Negra Baul Barbara By Showroom Ibbags Liquida!! Truth: HANDBAGS Prediction: MOTORCYCLE_AIR_FILTERS\n",
            "Sea And Cake The Any Day Usa Import Cd Nuevo Truth: MUSIC_ALBUMS Prediction: DATA_CABLES\n",
            "Funko Pop Perfect Cell Dragon Ball Z Truth: ACTION_FIGURES Prediction: AUTOMOTIVE_BUMPER_GRILLES\n",
            "Cable Micro Usb Carga Rápida Reforzado Mallado - Envío Truth: DATA_CABLES Prediction: TIMING_BELTS\n",
            "Royal Canin Obesity Management Para Gatos X 1,5 Kilos Truth: CATS_AND_DOGS_FOODS Prediction: LEARNING_TOYS\n",
            "Bolsas De Papel Sulfito Nº3 X 100 Unidades ¡¡¡oferta!!! Truth: COMMERCIAL_AND_EVENT_BAGS Prediction: LEARNING_TOYS\n",
            "Vocopro Uf-3  U-series Wireless Flute System . A Pedido Truth: INTEGRATED_CIRCUITS Prediction: MAGAZINES\n",
            "Jgo Llantas Fiat Palio Sporting 16 Truth: CAR_WHEELS Prediction: SPARK_PLUGS\n",
            "Barbie Y Ken Hawaianos Top Toys Ind Arg Vintage 80s Truth: DOLLS Prediction: INDOOR_CURTAINS_AND_BLINDS\n",
            "Lapras/nidoking Pokemon Ideal Pokebola Aleacion Plastica Truth: ACTION_FIGURES Prediction: DISTRIBUTION_KITS\n",
            "Almohadones Zig Zag Redondos Truth: PANTS Prediction: AUTOMOTIVE_IGNITION_COILS\n",
            "Kit 4 Amortiguadores Toyota Sw4 Srv - 2014 - Fric Rot Truth: AUTOMOTIVE_SHOCK_ABSORBERS Prediction: POSTERS\n",
            "Saco Abierto Saquito Hilo Rosa Caladi Sweater Pullover Mujer Truth: SWEATERS_AND_CARDIGANS Prediction: DATA_CABLES\n",
            "Hot Wheels Auto Original Blister X 1 Truth: DIECAST_CARS Prediction: DOLLS\n",
            "Motor Burro De Arranque Renault R4 1.1 81/90 Truth: STARTERS Prediction: ELECTRIC_GUITARS\n",
            "Paragolpes Delantero Vw Cross Fox 2010-2015 Original Truth: AUTOMOTIVE_FRONT_BUMPERS Prediction: HEELS_AND_WEDGES\n",
            "Lote Para Accesorios De Cortinas Retro Truth: INDOOR_CURTAINS_AND_BLINDS Prediction: MOVIES\n",
            "Elefante In The Room By Felipe Ascona Truth: WINES Prediction: AUTOMOTIVE_CLUTCH_KITS\n",
            "Arroyo Arnley 051-4166 Teniendo Rueda Truth: WHEELS_BEARINGS Prediction: BOARD_GAMES\n",
            "Sandalia Luna Chiara Temporada 2018 Ostuni Truth: SANDALS_AND_FLIP_FLOPS Prediction: MOTORCYCLE_TIRES\n",
            "Pothus M12 X 5 Unidades Truth: PLANTS Prediction: PANTS\n",
            "Catena Zapata . Malbec Argentino . 6 X 750 Ml Truth: WINES Prediction: HEELS_AND_WEDGES\n",
            "Soporte Motor Delantero Derecho/izquierdo Renault 12 Truth: AUTOMOTIVE_ENGINE_MOUNTS Prediction: DISTRIBUTION_KITS\n",
            "Inyector Renault Megane 2.0 16v F7r 96 A 03 Por 4 Unidades Truth: FUEL_INJECTORS Prediction: LEARNING_TOYS\n",
            "Shure Sm63 Handheld Dynamic Microphone-a Pedido 30dias! Truth: MICROPHONES Prediction: WRISTWATCHES\n",
            "Blocky Castillo Dragones 880 Pcs Jugueteria Bunny Toys Truth: TOY_BUILDING_SETS Prediction: STARTERS\n",
            "Plantas Suculentas Y Crasas  Maceta N°6 Incluye Grava Blanca Truth: PLANTS Prediction: FOOTBALL_SHOES\n",
            "Filtro de aire Mann Honda Wave 110 New 2014 En Adelante Truth: MOTORCYCLE_AIR_FILTERS Prediction: MOTORCYCLE_AIR_FILTERS\n"
          ],
          "name": "stdout"
        }
      ]
    },
    {
      "metadata": {
        "id": "fbiVGzn3fJD2",
        "colab_type": "text"
      },
      "cell_type": "markdown",
      "source": [
        "# Part 2: Recurrent Neural Network"
      ]
    },
    {
      "metadata": {
        "id": "YCN3NkTIpJ1h",
        "colab_type": "code",
        "outputId": "36692bf0-9f90-4705-d063-0cba3bb2de97",
        "colab": {
          "base_uri": "https://localhost:8080/",
          "height": 51
        }
      },
      "cell_type": "code",
      "source": [
        "train_length = 30000\n",
        "x_train = text_sequences[:train_length]\n",
        "y_train = one_hot_labels[:train_length]\n",
        "\n",
        "x_val = text_sequences[train_length:]\n",
        "y_val = one_hot_labels[train_length:]\n",
        "\n",
        "print(text_sequences.shape)\n",
        "print(encoded_docs.shape)"
      ],
      "execution_count": 0,
      "outputs": [
        {
          "output_type": "stream",
          "text": [
            "(10000, 12)\n",
            "(10000, 20000)\n"
          ],
          "name": "stdout"
        }
      ]
    },
    {
      "metadata": {
        "id": "WIPA5VzNtkWc",
        "colab_type": "text"
      },
      "cell_type": "markdown",
      "source": [
        "## RNN same approach"
      ]
    },
    {
      "metadata": {
        "id": "BrbePIVAtsVX",
        "colab_type": "code",
        "colab": {}
      },
      "cell_type": "code",
      "source": [
        "from tensorflow.python.keras.models import Sequential\n",
        "from tensorflow.python.keras.layers import Dense, Activation, Dropout, LSTM, Embedding, Masking\n",
        "\n",
        "num_features = encoded_docs.shape[1]\n",
        "title_max_length = text_sequences.shape[1]\n",
        "\n",
        "model = Sequential([\n",
        "    LSTM(units=512, input_shape=title_max_length),\n",
        "    Dropout(0.5),\n",
        "    Dense(len(df[:max_items].domain_id.unique()), activation='softmax')\n",
        "])\n",
        "\n",
        "# For a multi-class classification problem\n",
        "model.compile(optimizer='adam',\n",
        "              loss='categorical_crossentropy',\n",
        "              metrics=['accuracy'])\n",
        "\n",
        "# Train and validate model.\n",
        "history = model.fit(\n",
        "    x_train,\n",
        "    y_train,\n",
        "    epochs=20,\n",
        "    validation_data=(x_val, y_val),\n",
        "    verbose=1,  # Logs once per epoch.\n",
        "    batch_size=256)"
      ],
      "execution_count": 0,
      "outputs": []
    },
    {
      "metadata": {
        "id": "x48Onoxitf6p",
        "colab_type": "text"
      },
      "cell_type": "markdown",
      "source": [
        "## RNN using embedding Layer"
      ]
    },
    {
      "metadata": {
        "id": "ikMCA_CDfL1P",
        "colab_type": "code",
        "outputId": "8797e202-c56d-49ff-af14-c7e4ff888158",
        "colab": {
          "base_uri": "https://localhost:8080/",
          "height": 714
        }
      },
      "cell_type": "code",
      "source": [
        "from tensorflow.python.keras.models import Sequential\n",
        "from tensorflow.python.keras.layers import Dense, Activation, Dropout, LSTM, Embedding, Masking\n",
        "\n",
        "num_features = encoded_docs.shape[1]\n",
        "title_max_length = text_sequences.shape[1]\n",
        "\n",
        "rnn_model = Sequential([\n",
        "    Embedding(input_dim=num_features,\n",
        "              output_dim=200,\n",
        "              input_length=title_max_length),\n",
        "    LSTM(units=512),\n",
        "    Dropout(0.5),\n",
        "    Dense(len(df[:max_items].domain_id.unique()), activation='softmax')\n",
        "])\n",
        "\n",
        "# For a multi-class classification problem\n",
        "rnn_model.compile(optimizer='adam',\n",
        "              loss='categorical_crossentropy',\n",
        "              metrics=['accuracy'])\n",
        "\n",
        "# Train and validate model.\n",
        "history = rnn_model.fit(\n",
        "    x_train,\n",
        "    y_train,\n",
        "    epochs=20,\n",
        "    validation_data=(x_val, y_val),\n",
        "    verbose=1,  # Logs once per epoch.\n",
        "    batch_size=256)"
      ],
      "execution_count": 0,
      "outputs": [
        {
          "output_type": "stream",
          "text": [
            "Train on 8000 samples, validate on 2000 samples\n",
            "Epoch 1/20\n",
            "8000/8000 [==============================] - 3s 413us/sample - loss: 4.5352 - acc: 0.0200 - val_loss: 4.3271 - val_acc: 0.0235\n",
            "Epoch 2/20\n",
            "8000/8000 [==============================] - 2s 274us/sample - loss: 4.0951 - acc: 0.0419 - val_loss: 3.8227 - val_acc: 0.0685\n",
            "Epoch 3/20\n",
            "8000/8000 [==============================] - 2s 279us/sample - loss: 3.2520 - acc: 0.1670 - val_loss: 2.7044 - val_acc: 0.2905\n",
            "Epoch 4/20\n",
            "8000/8000 [==============================] - 2s 279us/sample - loss: 1.7753 - acc: 0.5155 - val_loss: 1.5731 - val_acc: 0.6230\n",
            "Epoch 5/20\n",
            "8000/8000 [==============================] - 2s 277us/sample - loss: 0.7736 - acc: 0.7939 - val_loss: 1.0830 - val_acc: 0.7660\n",
            "Epoch 6/20\n",
            "8000/8000 [==============================] - 2s 278us/sample - loss: 0.3694 - acc: 0.9061 - val_loss: 0.9212 - val_acc: 0.8100\n",
            "Epoch 7/20\n",
            "8000/8000 [==============================] - 2s 279us/sample - loss: 0.1947 - acc: 0.9561 - val_loss: 0.8919 - val_acc: 0.8305\n",
            "Epoch 8/20\n",
            "8000/8000 [==============================] - 2s 277us/sample - loss: 0.1245 - acc: 0.9765 - val_loss: 0.8909 - val_acc: 0.8350\n",
            "Epoch 9/20\n",
            "8000/8000 [==============================] - 2s 276us/sample - loss: 0.0834 - acc: 0.9847 - val_loss: 0.9021 - val_acc: 0.8405\n",
            "Epoch 10/20\n",
            "8000/8000 [==============================] - 2s 277us/sample - loss: 0.0677 - acc: 0.9879 - val_loss: 0.9006 - val_acc: 0.8345\n",
            "Epoch 11/20\n",
            "8000/8000 [==============================] - 2s 278us/sample - loss: 0.0566 - acc: 0.9906 - val_loss: 0.9074 - val_acc: 0.8375\n",
            "Epoch 12/20\n",
            "8000/8000 [==============================] - 2s 279us/sample - loss: 0.0492 - acc: 0.9909 - val_loss: 0.8862 - val_acc: 0.8405\n",
            "Epoch 13/20\n",
            "8000/8000 [==============================] - 2s 279us/sample - loss: 0.0359 - acc: 0.9939 - val_loss: 0.9073 - val_acc: 0.8420\n",
            "Epoch 14/20\n",
            "8000/8000 [==============================] - 2s 277us/sample - loss: 0.0315 - acc: 0.9941 - val_loss: 0.9290 - val_acc: 0.8465\n",
            "Epoch 15/20\n",
            "8000/8000 [==============================] - 2s 277us/sample - loss: 0.0288 - acc: 0.9949 - val_loss: 0.8699 - val_acc: 0.8520\n",
            "Epoch 16/20\n",
            "8000/8000 [==============================] - 2s 277us/sample - loss: 0.0286 - acc: 0.9937 - val_loss: 0.8931 - val_acc: 0.8460\n",
            "Epoch 17/20\n",
            "8000/8000 [==============================] - 2s 283us/sample - loss: 0.0213 - acc: 0.9960 - val_loss: 0.9064 - val_acc: 0.8465\n",
            "Epoch 18/20\n",
            "8000/8000 [==============================] - 2s 287us/sample - loss: 0.0210 - acc: 0.9967 - val_loss: 0.9391 - val_acc: 0.8510\n",
            "Epoch 19/20\n",
            "8000/8000 [==============================] - 2s 281us/sample - loss: 0.0143 - acc: 0.9979 - val_loss: 0.9591 - val_acc: 0.8450\n",
            "Epoch 20/20\n",
            "8000/8000 [==============================] - 2s 284us/sample - loss: 0.0144 - acc: 0.9976 - val_loss: 0.9463 - val_acc: 0.8445\n"
          ],
          "name": "stdout"
        }
      ]
    },
    {
      "metadata": {
        "id": "gL2evbp901Oh",
        "colab_type": "text"
      },
      "cell_type": "markdown",
      "source": [
        "## Visualize Word Embeddings"
      ]
    },
    {
      "metadata": {
        "id": "pd1c-OFDfcib",
        "colab_type": "code",
        "outputId": "9a9dcb29-6969-46cc-dc69-501852d9312c",
        "colab": {
          "base_uri": "https://localhost:8080/",
          "height": 272
        }
      },
      "cell_type": "code",
      "source": [
        "!pip install ggplot\n",
        "\n",
        "from sklearn.manifold import TSNE\n",
        "from ggplot import *\n",
        "\n",
        "\n",
        "embedding_model = Sequential([\n",
        "    Embedding(input_dim=num_features,\n",
        "              output_dim=200,\n",
        "              input_length=title_max_length,\n",
        "              weights=rnn_model.layers[0].get_weights())\n",
        "])\n",
        "\n",
        "def get_embeddings(titles, flatten=False):\n",
        "    seq = tokenizer.texts_to_sequences(titles)\n",
        "    max_sentence_length = 12\n",
        "    padded = sequence.pad_sequences(seq, max_sentence_length)\n",
        "    prediction = embedding_model.predict(padded)\n",
        "    \n",
        "    if flatten:\n",
        "        return [np.ndarray.flatten(e) for e in prediction]\n",
        "    \n",
        "    return prediction"
      ],
      "execution_count": 0,
      "outputs": [
        {
          "output_type": "stream",
          "text": [
            "Requirement already satisfied: ggplot in /usr/local/lib/python3.6/dist-packages (0.11.5)\n",
            "Requirement already satisfied: brewer2mpl in /usr/local/lib/python3.6/dist-packages (from ggplot) (1.4.1)\n",
            "Requirement already satisfied: numpy in /usr/local/lib/python3.6/dist-packages (from ggplot) (1.14.6)\n",
            "Requirement already satisfied: cycler in /usr/local/lib/python3.6/dist-packages (from ggplot) (0.10.0)\n",
            "Requirement already satisfied: scipy in /usr/local/lib/python3.6/dist-packages (from ggplot) (1.1.0)\n",
            "Requirement already satisfied: statsmodels in /usr/local/lib/python3.6/dist-packages (from ggplot) (0.8.0)\n",
            "Requirement already satisfied: patsy>=0.4 in /usr/local/lib/python3.6/dist-packages (from ggplot) (0.5.1)\n",
            "Requirement already satisfied: six in /usr/local/lib/python3.6/dist-packages (from ggplot) (1.11.0)\n",
            "Requirement already satisfied: pandas in /usr/local/lib/python3.6/dist-packages (from ggplot) (0.22.0)\n",
            "Requirement already satisfied: matplotlib in /usr/local/lib/python3.6/dist-packages (from ggplot) (3.0.2)\n",
            "Requirement already satisfied: python-dateutil>=2 in /usr/local/lib/python3.6/dist-packages (from pandas->ggplot) (2.5.3)\n",
            "Requirement already satisfied: pytz>=2011k in /usr/local/lib/python3.6/dist-packages (from pandas->ggplot) (2018.9)\n",
            "Requirement already satisfied: pyparsing!=2.0.4,!=2.1.2,!=2.1.6,>=2.0.1 in /usr/local/lib/python3.6/dist-packages (from matplotlib->ggplot) (2.3.1)\n",
            "Requirement already satisfied: kiwisolver>=1.0.1 in /usr/local/lib/python3.6/dist-packages (from matplotlib->ggplot) (1.0.1)\n",
            "Requirement already satisfied: setuptools in /usr/local/lib/python3.6/dist-packages (from kiwisolver>=1.0.1->matplotlib->ggplot) (40.8.0)\n"
          ],
          "name": "stdout"
        }
      ]
    },
    {
      "metadata": {
        "id": "G3yGzT1jfyOq",
        "colab_type": "code",
        "colab": {}
      },
      "cell_type": "code",
      "source": [
        "def visualize_embeddings(x_titles):\n",
        "\n",
        "  np.random.shuffle(x_titles)\n",
        "\n",
        "  perplexity = 14\n",
        "\n",
        "  emb_titles = np.array(get_embeddings(x_titles, flatten=True))\n",
        "\n",
        "  X_embedded = TSNE(n_components=2 , perplexity=perplexity, init='pca', random_state=8).fit_transform(emb_titles)\n",
        "\n",
        "  fig, ax = plt.subplots(figsize=(14,14), dpi=100)\n",
        "  vis_x = X_embedded[:, 0]\n",
        "  vis_y = X_embedded[:, 1]\n",
        "  sc = ax.scatter(vis_x, vis_y, c = np.array(range(len(vis_y))), cmap=plt.cm.get_cmap(\"jet\", 10))\n",
        "  fig.show()\n",
        "\n",
        "  max_label_length = 30\n",
        "\n",
        "  for i in range(len(vis_y)):\n",
        "      annot = ax.annotate(x_titles[i][: max_label_length], (vis_x[i], vis_y[i]))"
      ],
      "execution_count": 0,
      "outputs": []
    },
    {
      "metadata": {
        "id": "Rit8TPTe5gRA",
        "colab_type": "code",
        "colab": {}
      },
      "cell_type": "code",
      "source": [
        "#list(tokenizer.word_counts)[:100]"
      ],
      "execution_count": 0,
      "outputs": []
    },
    {
      "metadata": {
        "id": "bu6GEyAj3Uah",
        "colab_type": "code",
        "outputId": "83fe1739-46d4-40af-befb-0949c6336ec4",
        "colab": {
          "base_uri": "https://localhost:8080/",
          "height": 1117
        }
      },
      "cell_type": "code",
      "source": [
        "  x_titles = list(tokenizer.word_counts)[:200]\n",
        "  \n",
        "  visualize_embeddings(x_titles)"
      ],
      "execution_count": 0,
      "outputs": [
        {
          "output_type": "display_data",
          "data": {
            "image/png": "[encoded data removed]",
            "text/plain": [
              "<Figure size 1400x1400 with 1 Axes>"
            ]
          },
          "metadata": {
            "tags": []
          }
        }
      ]
    },
    {
      "metadata": {
        "id": "MSUoi59D4YGM",
        "colab_type": "code",
        "outputId": "90f177b3-e3ed-4414-a85f-3d859efd27d3",
        "colab": {
          "base_uri": "https://localhost:8080/",
          "height": 3149
        }
      },
      "cell_type": "code",
      "source": [
        "df.head(100)"
      ],
      "execution_count": 0,
      "outputs": [
        {
          "output_type": "execute_result",
          "data": {
            "text/html": [
              "<div>\n",
              "<style scoped>\n",
              "    .dataframe tbody tr th:only-of-type {\n",
              "        vertical-align: middle;\n",
              "    }\n",
              "\n",
              "    .dataframe tbody tr th {\n",
              "        vertical-align: top;\n",
              "    }\n",
              "\n",
              "    .dataframe thead th {\n",
              "        text-align: right;\n",
              "    }\n",
              "</style>\n",
              "<table border=\"1\" class=\"dataframe\">\n",
              "  <thead>\n",
              "    <tr style=\"text-align: right;\">\n",
              "      <th></th>\n",
              "      <th>domain_id</th>\n",
              "      <th>title</th>\n",
              "      <th>label</th>\n",
              "    </tr>\n",
              "  </thead>\n",
              "  <tbody>\n",
              "    <tr>\n",
              "      <th>0</th>\n",
              "      <td>SANDALS_AND_FLIP_FLOPS</td>\n",
              "      <td>Sandalias Con Plataforma Mini Viamo Usadas Num 33/34 Niña</td>\n",
              "      <td>0</td>\n",
              "    </tr>\n",
              "    <tr>\n",
              "      <th>1</th>\n",
              "      <td>SPARK_PLUG_WIRESETS</td>\n",
              "      <td>Cable Para Bujia Prestolite (1127) Peugeot 405/1.8/1.9/2.0 1</td>\n",
              "      <td>1</td>\n",
              "    </tr>\n",
              "    <tr>\n",
              "      <th>2</th>\n",
              "      <td>MOTORCYCLE_HANDLEBAR_GRIPS</td>\n",
              "      <td>Protectores Mda Monster Zanella Zb D 110 4t 2005....</td>\n",
              "      <td>2</td>\n",
              "    </tr>\n",
              "    <tr>\n",
              "      <th>3</th>\n",
              "      <td>MOTORCYCLE_TIRES</td>\n",
              "      <td>Cubierta Moto 250 17 Hd01-1 Okinoi Okinoi - 110</td>\n",
              "      <td>3</td>\n",
              "    </tr>\n",
              "    <tr>\n",
              "      <th>4</th>\n",
              "      <td>AUTOMOTIVE_FILTER_KITS</td>\n",
              "      <td>Kit De Filtros Wega Toyota Hilux 2011</td>\n",
              "      <td>4</td>\n",
              "    </tr>\n",
              "    <tr>\n",
              "      <th>5</th>\n",
              "      <td>FUEL_INJECTORS</td>\n",
              "      <td>Brida Inyector Combustible K9k -todos-1 - I14658</td>\n",
              "      <td>5</td>\n",
              "    </tr>\n",
              "    <tr>\n",
              "      <th>6</th>\n",
              "      <td>AUTOMOTIVE_SHOCK_ABSORBERS</td>\n",
              "      <td>Amortiguador Delantero Chrysler Pt Cruiser Record</td>\n",
              "      <td>6</td>\n",
              "    </tr>\n",
              "    <tr>\n",
              "      <th>7</th>\n",
              "      <td>MOVIES</td>\n",
              "      <td>Thor Un Mundo Oscuro Dvd Nuevo Natalie Portman Hemsworth</td>\n",
              "      <td>7</td>\n",
              "    </tr>\n",
              "    <tr>\n",
              "      <th>8</th>\n",
              "      <td>COMMERCIAL_AND_EVENT_BAGS</td>\n",
              "      <td>Bolsita Golosinera Con Cordon Blancanieves Princesas</td>\n",
              "      <td>8</td>\n",
              "    </tr>\n",
              "    <tr>\n",
              "      <th>9</th>\n",
              "      <td>SPARK_PLUGS</td>\n",
              "      <td>Juego 4 Bujias Originales Ecosport Kinetic Focus 3 1.6 Sigma</td>\n",
              "      <td>9</td>\n",
              "    </tr>\n",
              "    <tr>\n",
              "      <th>10</th>\n",
              "      <td>PAINTINGS</td>\n",
              "      <td>Cuadro  Decorativo  Be Happy My Baby (20 X 30 Marco Negro)</td>\n",
              "      <td>10</td>\n",
              "    </tr>\n",
              "    <tr>\n",
              "      <th>11</th>\n",
              "      <td>AUTOMOTIVE_EMBLEMS</td>\n",
              "      <td>Insignias Ford Rs</td>\n",
              "      <td>11</td>\n",
              "    </tr>\n",
              "    <tr>\n",
              "      <th>12</th>\n",
              "      <td>MOTORCYCLE_FAIRINGS</td>\n",
              "      <td>Juego Cubre Horquilla Guardabarro Motomel C110 Gris - 2r</td>\n",
              "      <td>12</td>\n",
              "    </tr>\n",
              "    <tr>\n",
              "      <th>13</th>\n",
              "      <td>COLLECTIBLE_POSTAGE_STAMPS</td>\n",
              "      <td>D D R 1966 Mi 1193/95** Yv 886/88 Mint Deportes Paracaidismo</td>\n",
              "      <td>13</td>\n",
              "    </tr>\n",
              "    <tr>\n",
              "      <th>14</th>\n",
              "      <td>WINDSHIELD_WIPERS</td>\n",
              "      <td>Escobilla Del.logan F3 14/17 Evollution Conduct.(20 ) Valeo</td>\n",
              "      <td>14</td>\n",
              "    </tr>\n",
              "    <tr>\n",
              "      <th>15</th>\n",
              "      <td>DATA_CABLES</td>\n",
              "      <td>Cable De Datos Iphone 90° Grados Voxon Mallado Resistente</td>\n",
              "      <td>15</td>\n",
              "    </tr>\n",
              "    <tr>\n",
              "      <th>16</th>\n",
              "      <td>DECORATIVE_VINYLS</td>\n",
              "      <td>Vinilos Decorativos Azulejos Vintage 2.25 Metros Cuadrados</td>\n",
              "      <td>16</td>\n",
              "    </tr>\n",
              "    <tr>\n",
              "      <th>17</th>\n",
              "      <td>MICROPHONES</td>\n",
              "      <td>Shure Svx24/pg58 Nuevo Sistema Inalámbrico De Mano</td>\n",
              "      <td>17</td>\n",
              "    </tr>\n",
              "    <tr>\n",
              "      <th>18</th>\n",
              "      <td>COLLECTIBLE_POSTAGE_STAMPS</td>\n",
              "      <td>Falkland Is Sc.378a Hojita Ss Mint Nh</td>\n",
              "      <td>13</td>\n",
              "    </tr>\n",
              "    <tr>\n",
              "      <th>19</th>\n",
              "      <td>PENS</td>\n",
              "      <td>Lapicera Montblanc 145 Chopin Platinum - Mont Blanc</td>\n",
              "      <td>18</td>\n",
              "    </tr>\n",
              "    <tr>\n",
              "      <th>20</th>\n",
              "      <td>MANGA</td>\n",
              "      <td>Ikkitousen Vol. 13</td>\n",
              "      <td>19</td>\n",
              "    </tr>\n",
              "    <tr>\n",
              "      <th>21</th>\n",
              "      <td>COINS</td>\n",
              "      <td>Argentina 10 Centavos 1896-1 Derecha Error Anv.¡¡exc. + +!!</td>\n",
              "      <td>20</td>\n",
              "    </tr>\n",
              "    <tr>\n",
              "      <th>22</th>\n",
              "      <td>WINES</td>\n",
              "      <td>Caja De 6 Vinos Benjamin</td>\n",
              "      <td>21</td>\n",
              "    </tr>\n",
              "    <tr>\n",
              "      <th>23</th>\n",
              "      <td>AUTOMOTIVE_EMBLEMS</td>\n",
              "      <td>Emblema Renault Master 3</td>\n",
              "      <td>11</td>\n",
              "    </tr>\n",
              "    <tr>\n",
              "      <th>24</th>\n",
              "      <td>COLLECTIBLE_CANS_AND_BOTTLES</td>\n",
              "      <td>28 Botellas De Cerveza Y 16 De Coca Cola Y Pepsi Lote Total</td>\n",
              "      <td>22</td>\n",
              "    </tr>\n",
              "    <tr>\n",
              "      <th>25</th>\n",
              "      <td>COLLECTIBLE_POSTAGE_STAMPS</td>\n",
              "      <td>Alemania Reich.....lote De Sellos Nuevos, Sin Goma.</td>\n",
              "      <td>13</td>\n",
              "    </tr>\n",
              "    <tr>\n",
              "      <th>26</th>\n",
              "      <td>DISTRIBUTION_KITS</td>\n",
              "      <td>Kit De Distribución Peugeot 207 1.6 16v Tu5j4 (nfu) Skf3256</td>\n",
              "      <td>23</td>\n",
              "    </tr>\n",
              "    <tr>\n",
              "      <th>27</th>\n",
              "      <td>HANDBAGS</td>\n",
              "      <td>Cartera Mujer Sobre Fiesta Tachas 47 Street St Importadas</td>\n",
              "      <td>24</td>\n",
              "    </tr>\n",
              "    <tr>\n",
              "      <th>28</th>\n",
              "      <td>AUTOMOTIVE_SHOCK_ABSORBERS</td>\n",
              "      <td>Kit 2 Amortiguadores Delanteros Ford Ranger 4x4 98/12</td>\n",
              "      <td>6</td>\n",
              "    </tr>\n",
              "    <tr>\n",
              "      <th>29</th>\n",
              "      <td>TIMING_BELTS</td>\n",
              "      <td>Correa De Distribucion Renault K4m Gates Original</td>\n",
              "      <td>25</td>\n",
              "    </tr>\n",
              "    <tr>\n",
              "      <th>30</th>\n",
              "      <td>WOMEN_SWIMWEAR</td>\n",
              "      <td>Enteriza Trikini Less</td>\n",
              "      <td>26</td>\n",
              "    </tr>\n",
              "    <tr>\n",
              "      <th>31</th>\n",
              "      <td>WHEEL_HUBS</td>\n",
              "      <td>Maza De Rueda Renault Express 1996 1997 1998 1999 2000 2001</td>\n",
              "      <td>27</td>\n",
              "    </tr>\n",
              "    <tr>\n",
              "      <th>32</th>\n",
              "      <td>PAINTINGS</td>\n",
              "      <td>Cuadros Modernos De Dragon Ball Hecho A Mano</td>\n",
              "      <td>10</td>\n",
              "    </tr>\n",
              "    <tr>\n",
              "      <th>33</th>\n",
              "      <td>LEARNING_TOYS</td>\n",
              "      <td>Pjmasks Trompo Increible Con Figura Coleccion Epj00834</td>\n",
              "      <td>28</td>\n",
              "    </tr>\n",
              "    <tr>\n",
              "      <th>34</th>\n",
              "      <td>LIGHT_BULBS</td>\n",
              "      <td>Pack 50 Lampara Led 220v 10w / 9w Frio Calido  E27 Foco</td>\n",
              "      <td>29</td>\n",
              "    </tr>\n",
              "    <tr>\n",
              "      <th>35</th>\n",
              "      <td>VEHICLE_BRAKE_PADS</td>\n",
              "      <td>Pastilla De Freno Delantera  Mazfren Citroen Xsara 1.9 L Die</td>\n",
              "      <td>30</td>\n",
              "    </tr>\n",
              "    <tr>\n",
              "      <th>36</th>\n",
              "      <td>SUNGLASSES</td>\n",
              "      <td>Anteojos Lentes De Sol Reef Ali 155 007</td>\n",
              "      <td>31</td>\n",
              "    </tr>\n",
              "    <tr>\n",
              "      <th>37</th>\n",
              "      <td>PANTS</td>\n",
              "      <td>Jean Mujer Dama Yagmour/zara Otras M T.40 Oxford/rectos Imp.</td>\n",
              "      <td>32</td>\n",
              "    </tr>\n",
              "    <tr>\n",
              "      <th>38</th>\n",
              "      <td>DATA_CABLES</td>\n",
              "      <td>2 Paquete Coolko Strongest Imán 2.1 La , 5 Pies (1,5 M) Cab</td>\n",
              "      <td>15</td>\n",
              "    </tr>\n",
              "    <tr>\n",
              "      <th>39</th>\n",
              "      <td>AUTOMOTIVE_MOLDINGS</td>\n",
              "      <td>Protector Del/izq.vw Polo/caddy 96041 - I9753</td>\n",
              "      <td>33</td>\n",
              "    </tr>\n",
              "    <tr>\n",
              "      <th>40</th>\n",
              "      <td>SHORTS</td>\n",
              "      <td>Shorts Caballeros Playeros Importado</td>\n",
              "      <td>34</td>\n",
              "    </tr>\n",
              "    <tr>\n",
              "      <th>41</th>\n",
              "      <td>AUTOMOTIVE_EMBLEMS</td>\n",
              "      <td>Honda Hrv Emblema H Delantero Cromado Original 15-18</td>\n",
              "      <td>11</td>\n",
              "    </tr>\n",
              "    <tr>\n",
              "      <th>42</th>\n",
              "      <td>BACKPACKS</td>\n",
              "      <td>Gina Mochila Blanco Xl Extra Large</td>\n",
              "      <td>35</td>\n",
              "    </tr>\n",
              "    <tr>\n",
              "      <th>43</th>\n",
              "      <td>PARTY_PRINTABLE_KITS</td>\n",
              "      <td>Kit Imprimible Granja | Cumpleaños | Candy Bar</td>\n",
              "      <td>36</td>\n",
              "    </tr>\n",
              "    <tr>\n",
              "      <th>44</th>\n",
              "      <td>AUTOMOBILE_FUEL_PUMPS</td>\n",
              "      <td>Bomba De Nafta Fiat Croma 05/10</td>\n",
              "      <td>37</td>\n",
              "    </tr>\n",
              "    <tr>\n",
              "      <th>45</th>\n",
              "      <td>ALTERNATORS</td>\n",
              "      <td>Alternador Vw Gol 1.6 Y 1.8 Motor Audi 14v 90 Amp</td>\n",
              "      <td>38</td>\n",
              "    </tr>\n",
              "    <tr>\n",
              "      <th>46</th>\n",
              "      <td>GLOW_PLUGS</td>\n",
              "      <td>Bujía De Encendido Diesel Ford Courier 1.8d 97/00</td>\n",
              "      <td>39</td>\n",
              "    </tr>\n",
              "    <tr>\n",
              "      <th>47</th>\n",
              "      <td>PAINTINGS</td>\n",
              "      <td>Cuadro En Tela Canvas Con Bastidor 95x120</td>\n",
              "      <td>10</td>\n",
              "    </tr>\n",
              "    <tr>\n",
              "      <th>48</th>\n",
              "      <td>TIMING_BELTS</td>\n",
              "      <td>Correa Distrib Continen Toyota Hilux 2.5d/3.0d 01/</td>\n",
              "      <td>25</td>\n",
              "    </tr>\n",
              "    <tr>\n",
              "      <th>49</th>\n",
              "      <td>CAR_WHEELS</td>\n",
              "      <td>Llantas Suzuki Sidekick Japón 4 + Auxilio</td>\n",
              "      <td>40</td>\n",
              "    </tr>\n",
              "    <tr>\n",
              "      <th>50</th>\n",
              "      <td>CAR_TURN_SIGNAL_LIGHTS</td>\n",
              "      <td>Circuito Impreso Faro Trasero Ford Sierra Original Nuevos</td>\n",
              "      <td>41</td>\n",
              "    </tr>\n",
              "    <tr>\n",
              "      <th>51</th>\n",
              "      <td>DOLLS</td>\n",
              "      <td>Frida Kalho Muñeca En Tela Pintada A Mano,</td>\n",
              "      <td>42</td>\n",
              "    </tr>\n",
              "    <tr>\n",
              "      <th>52</th>\n",
              "      <td>MOTORCYCLE_FAIRINGS</td>\n",
              "      <td>Carenado Izquierdo Tanque Zanella Rz3 Original</td>\n",
              "      <td>12</td>\n",
              "    </tr>\n",
              "    <tr>\n",
              "      <th>53</th>\n",
              "      <td>INDOOR_CURTAINS_AND_BLINDS</td>\n",
              "      <td>Gatco 1431sn Soporte De Soporte De Tela Cuadrada Moderna De</td>\n",
              "      <td>43</td>\n",
              "    </tr>\n",
              "    <tr>\n",
              "      <th>54</th>\n",
              "      <td>PLANTS</td>\n",
              "      <td>Arbol Kaki Japones - Diospyros Kaki Frutales</td>\n",
              "      <td>44</td>\n",
              "    </tr>\n",
              "    <tr>\n",
              "      <th>55</th>\n",
              "      <td>DOLLS</td>\n",
              "      <td>Muñeca Lol Edición Blanca!! Esfera Con Luz! Nuevo!!</td>\n",
              "      <td>42</td>\n",
              "    </tr>\n",
              "    <tr>\n",
              "      <th>56</th>\n",
              "      <td>AUTOMOTIVE_FILTER_KITS</td>\n",
              "      <td>Kit 2 Filtros Mann C35154 Hu719/7x</td>\n",
              "      <td>4</td>\n",
              "    </tr>\n",
              "    <tr>\n",
              "      <th>57</th>\n",
              "      <td>KITCHEN_POTS</td>\n",
              "      <td>Cacerola 26cm Con Asas - Teflón Roswell - Classic Black</td>\n",
              "      <td>45</td>\n",
              "    </tr>\n",
              "    <tr>\n",
              "      <th>58</th>\n",
              "      <td>DISTRIBUTION_KITS</td>\n",
              "      <td>Kit Distribucion Bosch + Bomba Agua Vmg Kangoo 1.6 16v K4m</td>\n",
              "      <td>23</td>\n",
              "    </tr>\n",
              "    <tr>\n",
              "      <th>59</th>\n",
              "      <td>VEHICLE_BRAKE_PADS</td>\n",
              "      <td>Pastillas De Freno Trasero Yamaha Tdm 900 Brembo</td>\n",
              "      <td>30</td>\n",
              "    </tr>\n",
              "    <tr>\n",
              "      <th>60</th>\n",
              "      <td>CAR_TURN_SIGNAL_LIGHTS</td>\n",
              "      <td>Faro Giro Lateral Volkswagen Bora G1 Ambar Fitam 1999-2007</td>\n",
              "      <td>41</td>\n",
              "    </tr>\n",
              "    <tr>\n",
              "      <th>61</th>\n",
              "      <td>JACKETS_AND_COATS</td>\n",
              "      <td>Campera Canguro Combinada Con Capucha Ufc Unisex</td>\n",
              "      <td>46</td>\n",
              "    </tr>\n",
              "    <tr>\n",
              "      <th>62</th>\n",
              "      <td>OXYGEN_SENSORS</td>\n",
              "      <td>Sonda Lambda Mercedes Benz 190 2.0 84/98</td>\n",
              "      <td>47</td>\n",
              "    </tr>\n",
              "    <tr>\n",
              "      <th>63</th>\n",
              "      <td>PUREBRED_DOGS</td>\n",
              "      <td>Chihuahuas De Bolsillo Vacunados Y Des. Los Mas Lindos</td>\n",
              "      <td>48</td>\n",
              "    </tr>\n",
              "    <tr>\n",
              "      <th>64</th>\n",
              "      <td>BOARD_GAMES</td>\n",
              "      <td>Jenga Jenga Kae Juego De Mesa Bisonte</td>\n",
              "      <td>49</td>\n",
              "    </tr>\n",
              "    <tr>\n",
              "      <th>65</th>\n",
              "      <td>DRINKING_GLASSES</td>\n",
              "      <td>Set X 6 Vasos Vasos Irrompibles 410cc Polipropileno Vignelli</td>\n",
              "      <td>50</td>\n",
              "    </tr>\n",
              "    <tr>\n",
              "      <th>66</th>\n",
              "      <td>DOLLS</td>\n",
              "      <td>Muñeca Lalaloopsy 30 Cm Bea Spells A Lot Jugueteria Aplausos</td>\n",
              "      <td>42</td>\n",
              "    </tr>\n",
              "    <tr>\n",
              "      <th>67</th>\n",
              "      <td>FOOTBALL_SHIRTS</td>\n",
              "      <td>Camiseta Perú Titular 2018 Oficial Mundial Rusia</td>\n",
              "      <td>51</td>\n",
              "    </tr>\n",
              "    <tr>\n",
              "      <th>68</th>\n",
              "      <td>WINES</td>\n",
              "      <td>Norton 1895 Malbec</td>\n",
              "      <td>21</td>\n",
              "    </tr>\n",
              "    <tr>\n",
              "      <th>69</th>\n",
              "      <td>DISTRIBUTION_KITS</td>\n",
              "      <td>Skf-kit De Distribucion Peugeot 407 Sedan 2.2 Ew12j4 (3fz) 1</td>\n",
              "      <td>23</td>\n",
              "    </tr>\n",
              "    <tr>\n",
              "      <th>70</th>\n",
              "      <td>DRINKING_GLASSES</td>\n",
              "      <td>6 Vaso Fernet Trago Largo Tu Grabado Fiestas Navidad Fin Año</td>\n",
              "      <td>50</td>\n",
              "    </tr>\n",
              "    <tr>\n",
              "      <th>71</th>\n",
              "      <td>MOTORCYCLE_HANDLEBAR_GRIPS</td>\n",
              "      <td>Puños Mda Rubber Rojo Gilera Smash 110 Rd</td>\n",
              "      <td>2</td>\n",
              "    </tr>\n",
              "    <tr>\n",
              "      <th>72</th>\n",
              "      <td>WOMEN_SWIMWEAR</td>\n",
              "      <td>Mallas Tankini  Talles Grandes Mamyblue Por Mayor   Pack X 4</td>\n",
              "      <td>26</td>\n",
              "    </tr>\n",
              "    <tr>\n",
              "      <th>73</th>\n",
              "      <td>WOMEN_SWIMWEAR</td>\n",
              "      <td>Vedetina Regulable Sin Costura Parte Trasera Varios Colores</td>\n",
              "      <td>26</td>\n",
              "    </tr>\n",
              "    <tr>\n",
              "      <th>74</th>\n",
              "      <td>AUTOMOTIVE_FENDERS</td>\n",
              "      <td>Ford Ranger 16- Guardabarro Delantero I</td>\n",
              "      <td>52</td>\n",
              "    </tr>\n",
              "    <tr>\n",
              "      <th>75</th>\n",
              "      <td>SUSPENSION_BALL_JOINTS</td>\n",
              "      <td>Rotula Inferior Thompson Ps-1039</td>\n",
              "      <td>53</td>\n",
              "    </tr>\n",
              "    <tr>\n",
              "      <th>76</th>\n",
              "      <td>PENS</td>\n",
              "      <td>Pluma Watermans Capuchon De Oro Made In Usa</td>\n",
              "      <td>18</td>\n",
              "    </tr>\n",
              "    <tr>\n",
              "      <th>77</th>\n",
              "      <td>TOY_BUILDING_SETS</td>\n",
              "      <td>Lego Duplo 10870 - Farm Animals - Animales De Granja</td>\n",
              "      <td>54</td>\n",
              "    </tr>\n",
              "    <tr>\n",
              "      <th>78</th>\n",
              "      <td>COLLECTIBLE_POSTAGE_STAMPS</td>\n",
              "      <td>D D R 1979 Mi 2464/71** C/ Complemento Yv 2127/34 Mint Arte</td>\n",
              "      <td>13</td>\n",
              "    </tr>\n",
              "    <tr>\n",
              "      <th>79</th>\n",
              "      <td>KITCHEN_POTS</td>\n",
              "      <td>Multiflon - Sarten 32 Cm Profesional - Bazar Chef</td>\n",
              "      <td>45</td>\n",
              "    </tr>\n",
              "    <tr>\n",
              "      <th>80</th>\n",
              "      <td>LIGHT_BULBS</td>\n",
              "      <td>Lámpara Led Vela E27 8 Watts - Candil - Envío Gratis!</td>\n",
              "      <td>29</td>\n",
              "    </tr>\n",
              "    <tr>\n",
              "      <th>81</th>\n",
              "      <td>ACTION_FIGURES</td>\n",
              "      <td>Muñeco Batman Articulado Traje Color Negro</td>\n",
              "      <td>55</td>\n",
              "    </tr>\n",
              "    <tr>\n",
              "      <th>82</th>\n",
              "      <td>CAR_BATTERIES</td>\n",
              "      <td>Batería Auto Willard Derecha Honda Accord 3.5 Ex V6 12x50 Ah</td>\n",
              "      <td>56</td>\n",
              "    </tr>\n",
              "    <tr>\n",
              "      <th>83</th>\n",
              "      <td>PRINTERS</td>\n",
              "      <td>Impresora Laser Wifi Canon 6030w Reemplazo Hp 1102 Toner 85a</td>\n",
              "      <td>57</td>\n",
              "    </tr>\n",
              "    <tr>\n",
              "      <th>84</th>\n",
              "      <td>DRINKING_GLASSES</td>\n",
              "      <td>Chopp Esmerilado Cerveza - Dodge #036 | Gtx Mopar Ram Rt Srt</td>\n",
              "      <td>50</td>\n",
              "    </tr>\n",
              "    <tr>\n",
              "      <th>85</th>\n",
              "      <td>COLLECTIBLE_CANS_AND_BOTTLES</td>\n",
              "      <td>Antigua Lata De Confiteria Picasso/vintage</td>\n",
              "      <td>22</td>\n",
              "    </tr>\n",
              "    <tr>\n",
              "      <th>86</th>\n",
              "      <td>MATTRESSES</td>\n",
              "      <td>Colchon Y Sommier  Sealy 5 Lunas Pocket Con Pillow 100x190</td>\n",
              "      <td>58</td>\n",
              "    </tr>\n",
              "    <tr>\n",
              "      <th>87</th>\n",
              "      <td>WHEELS_BEARINGS</td>\n",
              "      <td>Kit Rulemanes Skf Rueda Delantera Audi A1 Sb 1.4 Cava 12-16</td>\n",
              "      <td>59</td>\n",
              "    </tr>\n",
              "    <tr>\n",
              "      <th>88</th>\n",
              "      <td>NOTEBOOKS</td>\n",
              "      <td>Macbook Pro 17  Core I7 8 Gb Ram Es La Mas Grande De Las Mac</td>\n",
              "      <td>60</td>\n",
              "    </tr>\n",
              "    <tr>\n",
              "      <th>89</th>\n",
              "      <td>MICROPHONES</td>\n",
              "      <td>Micrófono Para Pc Estilo Retro Vintage 3.5 Kolke Celular</td>\n",
              "      <td>17</td>\n",
              "    </tr>\n",
              "    <tr>\n",
              "      <th>90</th>\n",
              "      <td>WRISTWATCHES</td>\n",
              "      <td>Reloj Casio Edifice Efa-124 Crono Alarmas Calendario 100m Wr</td>\n",
              "      <td>61</td>\n",
              "    </tr>\n",
              "    <tr>\n",
              "      <th>91</th>\n",
              "      <td>AUTOMOTIVE_CLUTCH_KITS</td>\n",
              "      <td>Kit Embrague Nissan Np300 2010/2014 Placa + Disco + Crapodin</td>\n",
              "      <td>62</td>\n",
              "    </tr>\n",
              "    <tr>\n",
              "      <th>92</th>\n",
              "      <td>SWAY_BAR_LINKS</td>\n",
              "      <td>Bieleta De Barra Estabilizadora Audi 80 Sedan/limusine 94/97</td>\n",
              "      <td>63</td>\n",
              "    </tr>\n",
              "    <tr>\n",
              "      <th>93</th>\n",
              "      <td>AUTOMOTIVE_EMBLEMS</td>\n",
              "      <td>Insignia Mercedes Benz Original De Radiador</td>\n",
              "      <td>11</td>\n",
              "    </tr>\n",
              "    <tr>\n",
              "      <th>94</th>\n",
              "      <td>AUTOMOTIVE_BUMPER_GRILLES</td>\n",
              "      <td>Grilla Paragolpe Delantero Izquierdo Ford Ecosport 13/17 13</td>\n",
              "      <td>64</td>\n",
              "    </tr>\n",
              "    <tr>\n",
              "      <th>95</th>\n",
              "      <td>OXYGEN_SENSORS</td>\n",
              "      <td>Sondas Lambda Fiat Stilo 1.8 04/10</td>\n",
              "      <td>47</td>\n",
              "    </tr>\n",
              "    <tr>\n",
              "      <th>96</th>\n",
              "      <td>VEHICLE_BRAKE_PADS</td>\n",
              "      <td>Juego De Pastillas De Freno Citroen C3 Picasso 11/18</td>\n",
              "      <td>30</td>\n",
              "    </tr>\n",
              "    <tr>\n",
              "      <th>97</th>\n",
              "      <td>INTEGRATED_CIRCUITS</td>\n",
              "      <td>Tba820m Tba820 Dip8 Codxyoy</td>\n",
              "      <td>65</td>\n",
              "    </tr>\n",
              "    <tr>\n",
              "      <th>98</th>\n",
              "      <td>CAR_BATTERIES</td>\n",
              "      <td>Bateria Prestolite 12x95 Pev95md Sprinter Mercedes Benz Bmw</td>\n",
              "      <td>56</td>\n",
              "    </tr>\n",
              "    <tr>\n",
              "      <th>99</th>\n",
              "      <td>FUEL_INJECTION_IDLE_AIR_CONTROL_VALVES</td>\n",
              "      <td>Motor Paso A Paso Renault R19 Bicuerpo 1.6 93/01</td>\n",
              "      <td>66</td>\n",
              "    </tr>\n",
              "  </tbody>\n",
              "</table>\n",
              "</div>"
            ],
            "text/plain": [
              "                                 domain_id  \\\n",
              "0   SANDALS_AND_FLIP_FLOPS                   \n",
              "1   SPARK_PLUG_WIRESETS                      \n",
              "2   MOTORCYCLE_HANDLEBAR_GRIPS               \n",
              "3   MOTORCYCLE_TIRES                         \n",
              "4   AUTOMOTIVE_FILTER_KITS                   \n",
              "5   FUEL_INJECTORS                           \n",
              "6   AUTOMOTIVE_SHOCK_ABSORBERS               \n",
              "7   MOVIES                                   \n",
              "8   COMMERCIAL_AND_EVENT_BAGS                \n",
              "9   SPARK_PLUGS                              \n",
              "10  PAINTINGS                                \n",
              "11  AUTOMOTIVE_EMBLEMS                       \n",
              "12  MOTORCYCLE_FAIRINGS                      \n",
              "13  COLLECTIBLE_POSTAGE_STAMPS               \n",
              "14  WINDSHIELD_WIPERS                        \n",
              "15  DATA_CABLES                              \n",
              "16  DECORATIVE_VINYLS                        \n",
              "17  MICROPHONES                              \n",
              "18  COLLECTIBLE_POSTAGE_STAMPS               \n",
              "19  PENS                                     \n",
              "20  MANGA                                    \n",
              "21  COINS                                    \n",
              "22  WINES                                    \n",
              "23  AUTOMOTIVE_EMBLEMS                       \n",
              "24  COLLECTIBLE_CANS_AND_BOTTLES             \n",
              "25  COLLECTIBLE_POSTAGE_STAMPS               \n",
              "26  DISTRIBUTION_KITS                        \n",
              "27  HANDBAGS                                 \n",
              "28  AUTOMOTIVE_SHOCK_ABSORBERS               \n",
              "29  TIMING_BELTS                             \n",
              "30  WOMEN_SWIMWEAR                           \n",
              "31  WHEEL_HUBS                               \n",
              "32  PAINTINGS                                \n",
              "33  LEARNING_TOYS                            \n",
              "34  LIGHT_BULBS                              \n",
              "35  VEHICLE_BRAKE_PADS                       \n",
              "36  SUNGLASSES                               \n",
              "37  PANTS                                    \n",
              "38  DATA_CABLES                              \n",
              "39  AUTOMOTIVE_MOLDINGS                      \n",
              "40  SHORTS                                   \n",
              "41  AUTOMOTIVE_EMBLEMS                       \n",
              "42  BACKPACKS                                \n",
              "43  PARTY_PRINTABLE_KITS                     \n",
              "44  AUTOMOBILE_FUEL_PUMPS                    \n",
              "45  ALTERNATORS                              \n",
              "46  GLOW_PLUGS                               \n",
              "47  PAINTINGS                                \n",
              "48  TIMING_BELTS                             \n",
              "49  CAR_WHEELS                               \n",
              "50  CAR_TURN_SIGNAL_LIGHTS                   \n",
              "51  DOLLS                                    \n",
              "52  MOTORCYCLE_FAIRINGS                      \n",
              "53  INDOOR_CURTAINS_AND_BLINDS               \n",
              "54  PLANTS                                   \n",
              "55  DOLLS                                    \n",
              "56  AUTOMOTIVE_FILTER_KITS                   \n",
              "57  KITCHEN_POTS                             \n",
              "58  DISTRIBUTION_KITS                        \n",
              "59  VEHICLE_BRAKE_PADS                       \n",
              "60  CAR_TURN_SIGNAL_LIGHTS                   \n",
              "61  JACKETS_AND_COATS                        \n",
              "62  OXYGEN_SENSORS                           \n",
              "63  PUREBRED_DOGS                            \n",
              "64  BOARD_GAMES                              \n",
              "65  DRINKING_GLASSES                         \n",
              "66  DOLLS                                    \n",
              "67  FOOTBALL_SHIRTS                          \n",
              "68  WINES                                    \n",
              "69  DISTRIBUTION_KITS                        \n",
              "70  DRINKING_GLASSES                         \n",
              "71  MOTORCYCLE_HANDLEBAR_GRIPS               \n",
              "72  WOMEN_SWIMWEAR                           \n",
              "73  WOMEN_SWIMWEAR                           \n",
              "74  AUTOMOTIVE_FENDERS                       \n",
              "75  SUSPENSION_BALL_JOINTS                   \n",
              "76  PENS                                     \n",
              "77  TOY_BUILDING_SETS                        \n",
              "78  COLLECTIBLE_POSTAGE_STAMPS               \n",
              "79  KITCHEN_POTS                             \n",
              "80  LIGHT_BULBS                              \n",
              "81  ACTION_FIGURES                           \n",
              "82  CAR_BATTERIES                            \n",
              "83  PRINTERS                                 \n",
              "84  DRINKING_GLASSES                         \n",
              "85  COLLECTIBLE_CANS_AND_BOTTLES             \n",
              "86  MATTRESSES                               \n",
              "87  WHEELS_BEARINGS                          \n",
              "88  NOTEBOOKS                                \n",
              "89  MICROPHONES                              \n",
              "90  WRISTWATCHES                             \n",
              "91  AUTOMOTIVE_CLUTCH_KITS                   \n",
              "92  SWAY_BAR_LINKS                           \n",
              "93  AUTOMOTIVE_EMBLEMS                       \n",
              "94  AUTOMOTIVE_BUMPER_GRILLES                \n",
              "95  OXYGEN_SENSORS                           \n",
              "96  VEHICLE_BRAKE_PADS                       \n",
              "97  INTEGRATED_CIRCUITS                      \n",
              "98  CAR_BATTERIES                            \n",
              "99  FUEL_INJECTION_IDLE_AIR_CONTROL_VALVES   \n",
              "\n",
              "                                                           title  label  \n",
              "0   Sandalias Con Plataforma Mini Viamo Usadas Num 33/34 Niña     0      \n",
              "1   Cable Para Bujia Prestolite (1127) Peugeot 405/1.8/1.9/2.0 1  1      \n",
              "2   Protectores Mda Monster Zanella Zb D 110 4t 2005....          2      \n",
              "3   Cubierta Moto 250 17 Hd01-1 Okinoi Okinoi - 110               3      \n",
              "4   Kit De Filtros Wega Toyota Hilux 2011                         4      \n",
              "5   Brida Inyector Combustible K9k -todos-1 - I14658              5      \n",
              "6   Amortiguador Delantero Chrysler Pt Cruiser Record             6      \n",
              "7   Thor Un Mundo Oscuro Dvd Nuevo Natalie Portman Hemsworth      7      \n",
              "8   Bolsita Golosinera Con Cordon Blancanieves Princesas          8      \n",
              "9   Juego 4 Bujias Originales Ecosport Kinetic Focus 3 1.6 Sigma  9      \n",
              "10  Cuadro  Decorativo  Be Happy My Baby (20 X 30 Marco Negro)    10     \n",
              "11  Insignias Ford Rs                                             11     \n",
              "12  Juego Cubre Horquilla Guardabarro Motomel C110 Gris - 2r      12     \n",
              "13  D D R 1966 Mi 1193/95** Yv 886/88 Mint Deportes Paracaidismo  13     \n",
              "14  Escobilla Del.logan F3 14/17 Evollution Conduct.(20 ) Valeo   14     \n",
              "15  Cable De Datos Iphone 90° Grados Voxon Mallado Resistente     15     \n",
              "16  Vinilos Decorativos Azulejos Vintage 2.25 Metros Cuadrados    16     \n",
              "17  Shure Svx24/pg58 Nuevo Sistema Inalámbrico De Mano            17     \n",
              "18  Falkland Is Sc.378a Hojita Ss Mint Nh                         13     \n",
              "19  Lapicera Montblanc 145 Chopin Platinum - Mont Blanc           18     \n",
              "20  Ikkitousen Vol. 13                                            19     \n",
              "21  Argentina 10 Centavos 1896-1 Derecha Error Anv.¡¡exc. + +!!   20     \n",
              "22  Caja De 6 Vinos Benjamin                                      21     \n",
              "23  Emblema Renault Master 3                                      11     \n",
              "24  28 Botellas De Cerveza Y 16 De Coca Cola Y Pepsi Lote Total   22     \n",
              "25  Alemania Reich.....lote De Sellos Nuevos, Sin Goma.           13     \n",
              "26  Kit De Distribución Peugeot 207 1.6 16v Tu5j4 (nfu) Skf3256   23     \n",
              "27  Cartera Mujer Sobre Fiesta Tachas 47 Street St Importadas     24     \n",
              "28  Kit 2 Amortiguadores Delanteros Ford Ranger 4x4 98/12         6      \n",
              "29  Correa De Distribucion Renault K4m Gates Original             25     \n",
              "30  Enteriza Trikini Less                                         26     \n",
              "31  Maza De Rueda Renault Express 1996 1997 1998 1999 2000 2001   27     \n",
              "32  Cuadros Modernos De Dragon Ball Hecho A Mano                  10     \n",
              "33  Pjmasks Trompo Increible Con Figura Coleccion Epj00834        28     \n",
              "34  Pack 50 Lampara Led 220v 10w / 9w Frio Calido  E27 Foco       29     \n",
              "35  Pastilla De Freno Delantera  Mazfren Citroen Xsara 1.9 L Die  30     \n",
              "36  Anteojos Lentes De Sol Reef Ali 155 007                       31     \n",
              "37  Jean Mujer Dama Yagmour/zara Otras M T.40 Oxford/rectos Imp.  32     \n",
              "38  2 Paquete Coolko Strongest Imán 2.1 La , 5 Pies (1,5 M) Cab   15     \n",
              "39  Protector Del/izq.vw Polo/caddy 96041 - I9753                 33     \n",
              "40  Shorts Caballeros Playeros Importado                          34     \n",
              "41  Honda Hrv Emblema H Delantero Cromado Original 15-18          11     \n",
              "42  Gina Mochila Blanco Xl Extra Large                            35     \n",
              "43  Kit Imprimible Granja | Cumpleaños | Candy Bar                36     \n",
              "44  Bomba De Nafta Fiat Croma 05/10                               37     \n",
              "45  Alternador Vw Gol 1.6 Y 1.8 Motor Audi 14v 90 Amp             38     \n",
              "46  Bujía De Encendido Diesel Ford Courier 1.8d 97/00             39     \n",
              "47  Cuadro En Tela Canvas Con Bastidor 95x120                     10     \n",
              "48  Correa Distrib Continen Toyota Hilux 2.5d/3.0d 01/            25     \n",
              "49  Llantas Suzuki Sidekick Japón 4 + Auxilio                     40     \n",
              "50  Circuito Impreso Faro Trasero Ford Sierra Original Nuevos     41     \n",
              "51  Frida Kalho Muñeca En Tela Pintada A Mano,                    42     \n",
              "52  Carenado Izquierdo Tanque Zanella Rz3 Original                12     \n",
              "53  Gatco 1431sn Soporte De Soporte De Tela Cuadrada Moderna De   43     \n",
              "54  Arbol Kaki Japones - Diospyros Kaki Frutales                  44     \n",
              "55  Muñeca Lol Edición Blanca!! Esfera Con Luz! Nuevo!!           42     \n",
              "56  Kit 2 Filtros Mann C35154 Hu719/7x                            4      \n",
              "57  Cacerola 26cm Con Asas - Teflón Roswell - Classic Black       45     \n",
              "58  Kit Distribucion Bosch + Bomba Agua Vmg Kangoo 1.6 16v K4m    23     \n",
              "59  Pastillas De Freno Trasero Yamaha Tdm 900 Brembo              30     \n",
              "60  Faro Giro Lateral Volkswagen Bora G1 Ambar Fitam 1999-2007    41     \n",
              "61  Campera Canguro Combinada Con Capucha Ufc Unisex              46     \n",
              "62  Sonda Lambda Mercedes Benz 190 2.0 84/98                      47     \n",
              "63  Chihuahuas De Bolsillo Vacunados Y Des. Los Mas Lindos        48     \n",
              "64  Jenga Jenga Kae Juego De Mesa Bisonte                         49     \n",
              "65  Set X 6 Vasos Vasos Irrompibles 410cc Polipropileno Vignelli  50     \n",
              "66  Muñeca Lalaloopsy 30 Cm Bea Spells A Lot Jugueteria Aplausos  42     \n",
              "67  Camiseta Perú Titular 2018 Oficial Mundial Rusia              51     \n",
              "68  Norton 1895 Malbec                                            21     \n",
              "69  Skf-kit De Distribucion Peugeot 407 Sedan 2.2 Ew12j4 (3fz) 1  23     \n",
              "70  6 Vaso Fernet Trago Largo Tu Grabado Fiestas Navidad Fin Año  50     \n",
              "71  Puños Mda Rubber Rojo Gilera Smash 110 Rd                     2      \n",
              "72  Mallas Tankini  Talles Grandes Mamyblue Por Mayor   Pack X 4  26     \n",
              "73  Vedetina Regulable Sin Costura Parte Trasera Varios Colores   26     \n",
              "74  Ford Ranger 16- Guardabarro Delantero I                       52     \n",
              "75  Rotula Inferior Thompson Ps-1039                              53     \n",
              "76  Pluma Watermans Capuchon De Oro Made In Usa                   18     \n",
              "77  Lego Duplo 10870 - Farm Animals - Animales De Granja          54     \n",
              "78  D D R 1979 Mi 2464/71** C/ Complemento Yv 2127/34 Mint Arte   13     \n",
              "79  Multiflon - Sarten 32 Cm Profesional - Bazar Chef             45     \n",
              "80  Lámpara Led Vela E27 8 Watts - Candil - Envío Gratis!         29     \n",
              "81  Muñeco Batman Articulado Traje Color Negro                    55     \n",
              "82  Batería Auto Willard Derecha Honda Accord 3.5 Ex V6 12x50 Ah  56     \n",
              "83  Impresora Laser Wifi Canon 6030w Reemplazo Hp 1102 Toner 85a  57     \n",
              "84  Chopp Esmerilado Cerveza - Dodge #036 | Gtx Mopar Ram Rt Srt  50     \n",
              "85  Antigua Lata De Confiteria Picasso/vintage                    22     \n",
              "86  Colchon Y Sommier  Sealy 5 Lunas Pocket Con Pillow 100x190    58     \n",
              "87  Kit Rulemanes Skf Rueda Delantera Audi A1 Sb 1.4 Cava 12-16   59     \n",
              "88  Macbook Pro 17  Core I7 8 Gb Ram Es La Mas Grande De Las Mac  60     \n",
              "89  Micrófono Para Pc Estilo Retro Vintage 3.5 Kolke Celular      17     \n",
              "90  Reloj Casio Edifice Efa-124 Crono Alarmas Calendario 100m Wr  61     \n",
              "91  Kit Embrague Nissan Np300 2010/2014 Placa + Disco + Crapodin  62     \n",
              "92  Bieleta De Barra Estabilizadora Audi 80 Sedan/limusine 94/97  63     \n",
              "93  Insignia Mercedes Benz Original De Radiador                   11     \n",
              "94  Grilla Paragolpe Delantero Izquierdo Ford Ecosport 13/17 13   64     \n",
              "95  Sondas Lambda Fiat Stilo 1.8 04/10                            47     \n",
              "96  Juego De Pastillas De Freno Citroen C3 Picasso 11/18          30     \n",
              "97  Tba820m Tba820 Dip8 Codxyoy                                   65     \n",
              "98  Bateria Prestolite 12x95 Pev95md Sprinter Mercedes Benz Bmw   56     \n",
              "99  Motor Paso A Paso Renault R19 Bicuerpo 1.6 93/01              66     "
            ]
          },
          "metadata": {
            "tags": []
          },
          "execution_count": 99
        }
      ]
    },
    {
      "metadata": {
        "id": "dkoMQ9iA4ZHG",
        "colab_type": "code",
        "colab": {}
      },
      "cell_type": "code",
      "source": [
        ""
      ],
      "execution_count": 0,
      "outputs": []
    }
  ]
}